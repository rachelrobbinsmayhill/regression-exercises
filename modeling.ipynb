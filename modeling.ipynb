{
 "cells": [
  {
   "cell_type": "markdown",
   "id": "74c02462-1e7e-4121-952e-f0478650d0ce",
   "metadata": {},
   "source": [
    "# Modeling Exercises"
   ]
  },
  {
   "cell_type": "markdown",
   "id": "6a7f68a5-f4f3-4e19-8091-f614013eec81",
   "metadata": {},
   "source": [
    "# 1. "
   ]
  },
  {
   "cell_type": "markdown",
   "id": "0c809c8c-178c-4d2e-af76-3457cd8cec98",
   "metadata": {},
   "source": [
    "Select a dataset with a continuous target variable."
   ]
  },
  {
   "cell_type": "code",
   "execution_count": null,
   "id": "b7869ab9-85f1-4d65-ae0a-cb5e34a0dae2",
   "metadata": {},
   "outputs": [],
   "source": []
  },
  {
   "cell_type": "markdown",
   "id": "e603a32a-aa4b-4b14-a52e-6bd8c06f06a0",
   "metadata": {},
   "source": [
    "# 2. "
   ]
  },
  {
   "cell_type": "markdown",
   "id": "a7006684-391e-4dfe-825c-c3db13e300da",
   "metadata": {},
   "source": [
    "Be sure your data is prepared (no missing values, numeric datatypes) and split into samples."
   ]
  },
  {
   "cell_type": "code",
   "execution_count": null,
   "id": "7e3058b4-0a1f-45b3-ab8b-e95551261ca8",
   "metadata": {},
   "outputs": [],
   "source": []
  },
  {
   "cell_type": "markdown",
   "id": "dd125c36-f9aa-4d01-8b3a-64ed85357bee",
   "metadata": {},
   "source": [
    "# 3. "
   ]
  },
  {
   "cell_type": "markdown",
   "id": "34ca27ba-622c-461e-9a01-a94ae0c704cf",
   "metadata": {},
   "source": [
    "Work through all of the steps outlined in the lesson, from setting the baseline to selected a model and evaluating the final model on your test data."
   ]
  },
  {
   "cell_type": "code",
   "execution_count": null,
   "id": "acdc349f-1624-445d-92f6-c56e97c8e567",
   "metadata": {},
   "outputs": [],
   "source": []
  }
 ],
 "metadata": {
  "kernelspec": {
   "display_name": "Python 3 (ipykernel)",
   "language": "python",
   "name": "python3"
  },
  "language_info": {
   "codemirror_mode": {
    "name": "ipython",
    "version": 3
   },
   "file_extension": ".py",
   "mimetype": "text/x-python",
   "name": "python",
   "nbconvert_exporter": "python",
   "pygments_lexer": "ipython3",
   "version": "3.9.7"
  }
 },
 "nbformat": 4,
 "nbformat_minor": 5
}
