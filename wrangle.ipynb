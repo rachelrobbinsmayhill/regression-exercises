{
 "cells": [
  {
   "cell_type": "markdown",
   "id": "501e9ea1-af7b-4aba-b81e-3f98b13e04a7",
   "metadata": {
    "tags": []
   },
   "source": [
    "# Wrangle Exercises\n",
    "- For these exercises, you will create wrangle.ipynb and wrangle.py files to hold necessary functions."
   ]
  },
  {
   "cell_type": "code",
   "execution_count": 1,
   "id": "3776657c-97b7-4ffb-a45f-202811d5336b",
   "metadata": {},
   "outputs": [],
   "source": [
    "# STANDARD LIBRARIES\n",
    "import os\n",
    "\n",
    "\n",
    "# THIRD PARTY LIBRARIES\n",
    "import numpy as np\n",
    "import matplotlib.pyplot as plt\n",
    "import pandas as pd\n",
    "import seaborn as sns\n",
    "import warnings\n",
    "warnings.filterwarnings(\"ignore\")\n",
    "\n",
    "# LOCAL LIBRARIES\n",
    "import env\n",
    "import wrangle"
   ]
  },
  {
   "cell_type": "markdown",
   "id": "45e48368-cf5e-4ec0-a301-8f01dbc7982f",
   "metadata": {},
   "source": [
    "Let's set up an example scenario as perspective for our regression exercises using the Zillow dataset.\n",
    "\n",
    "As a Codeup data science graduate, you want to show off your skills to the Zillow data science team in hopes of getting an interview for a position you saw pop up on LinkedIn. You thought it might look impressive to build an end-to-end project in which you use some of their Kaggle data to predict property values using some of their available features; who knows, you might even do some feature engineering to blow them away. "
   ]
  },
  {
   "cell_type": "markdown",
   "id": "17a380b5-e175-4e81-a868-9aeaf3d4f9be",
   "metadata": {},
   "source": [
    "#### Your goal is to predict the values of single unit properties using the obervations from 2017."
   ]
  },
  {
   "cell_type": "markdown",
   "id": "6dae798e-351f-4dec-90c9-471dbf432f57",
   "metadata": {},
   "source": [
    "In these exercises, you will complete the first step toward the above goal: acquire and prepare the necessary Zillow data from the zillow database in the Codeup database server."
   ]
  },
  {
   "cell_type": "markdown",
   "id": "afe8fc95-45d9-48b0-b9d2-b243bc8fd928",
   "metadata": {},
   "source": [
    "## 1."
   ]
  },
  {
   "cell_type": "markdown",
   "id": "f9950cb4-0c74-419c-8168-4341f5324932",
   "metadata": {},
   "source": [
    "## Acquire"
   ]
  },
  {
   "cell_type": "markdown",
   "id": "93ea19d3-9790-47cf-bf4b-57212d2b572f",
   "metadata": {},
   "source": [
    "Acquire bedroomcnt, bathroomcnt, calculatedfinishedsquarefeet, taxvaluedollarcnt, yearbuilt, taxamount, and fips from the zillow database for all 'Single Family Residential' properties."
   ]
  },
  {
   "cell_type": "code",
   "execution_count": 7,
   "id": "860a83fb-e40c-4b02-b3b1-12275378afe9",
   "metadata": {},
   "outputs": [
    {
     "name": "stdout",
     "output_type": "stream",
     "text": [
      "Reading from csv file...\n"
     ]
    }
   ],
   "source": [
    "df = wrangle.get_zillow_data()"
   ]
  },
  {
   "cell_type": "code",
   "execution_count": 8,
   "id": "76bbf46e-b34d-45d0-9d1f-ad4f7aff8f8d",
   "metadata": {},
   "outputs": [
    {
     "data": {
      "text/html": [
       "<div>\n",
       "<style scoped>\n",
       "    .dataframe tbody tr th:only-of-type {\n",
       "        vertical-align: middle;\n",
       "    }\n",
       "\n",
       "    .dataframe tbody tr th {\n",
       "        vertical-align: top;\n",
       "    }\n",
       "\n",
       "    .dataframe thead th {\n",
       "        text-align: right;\n",
       "    }\n",
       "</style>\n",
       "<table border=\"1\" class=\"dataframe\">\n",
       "  <thead>\n",
       "    <tr style=\"text-align: right;\">\n",
       "      <th></th>\n",
       "      <th>bedrooms</th>\n",
       "      <th>bathrooms</th>\n",
       "      <th>square_feet</th>\n",
       "      <th>tax_assessed_value_USD</th>\n",
       "      <th>year_built</th>\n",
       "      <th>tax_amount</th>\n",
       "      <th>fed_code</th>\n",
       "    </tr>\n",
       "  </thead>\n",
       "  <tbody>\n",
       "    <tr>\n",
       "      <th>0</th>\n",
       "      <td>0.0</td>\n",
       "      <td>0.0</td>\n",
       "      <td>NaN</td>\n",
       "      <td>27516.0</td>\n",
       "      <td>NaN</td>\n",
       "      <td>NaN</td>\n",
       "      <td>6037.0</td>\n",
       "    </tr>\n",
       "    <tr>\n",
       "      <th>1</th>\n",
       "      <td>0.0</td>\n",
       "      <td>0.0</td>\n",
       "      <td>NaN</td>\n",
       "      <td>10.0</td>\n",
       "      <td>NaN</td>\n",
       "      <td>NaN</td>\n",
       "      <td>6037.0</td>\n",
       "    </tr>\n",
       "    <tr>\n",
       "      <th>2</th>\n",
       "      <td>0.0</td>\n",
       "      <td>0.0</td>\n",
       "      <td>NaN</td>\n",
       "      <td>10.0</td>\n",
       "      <td>NaN</td>\n",
       "      <td>NaN</td>\n",
       "      <td>6037.0</td>\n",
       "    </tr>\n",
       "    <tr>\n",
       "      <th>3</th>\n",
       "      <td>0.0</td>\n",
       "      <td>0.0</td>\n",
       "      <td>NaN</td>\n",
       "      <td>2108.0</td>\n",
       "      <td>NaN</td>\n",
       "      <td>174.21</td>\n",
       "      <td>6037.0</td>\n",
       "    </tr>\n",
       "    <tr>\n",
       "      <th>4</th>\n",
       "      <td>4.0</td>\n",
       "      <td>2.0</td>\n",
       "      <td>3633.0</td>\n",
       "      <td>296425.0</td>\n",
       "      <td>2005.0</td>\n",
       "      <td>6941.39</td>\n",
       "      <td>6037.0</td>\n",
       "    </tr>\n",
       "  </tbody>\n",
       "</table>\n",
       "</div>"
      ],
      "text/plain": [
       "   bedrooms  bathrooms  square_feet  tax_assessed_value_USD  year_built  \\\n",
       "0       0.0        0.0          NaN                 27516.0         NaN   \n",
       "1       0.0        0.0          NaN                    10.0         NaN   \n",
       "2       0.0        0.0          NaN                    10.0         NaN   \n",
       "3       0.0        0.0          NaN                  2108.0         NaN   \n",
       "4       4.0        2.0       3633.0                296425.0      2005.0   \n",
       "\n",
       "   tax_amount  fed_code  \n",
       "0         NaN    6037.0  \n",
       "1         NaN    6037.0  \n",
       "2         NaN    6037.0  \n",
       "3      174.21    6037.0  \n",
       "4     6941.39    6037.0  "
      ]
     },
     "execution_count": 8,
     "metadata": {},
     "output_type": "execute_result"
    }
   ],
   "source": [
    "df.head()"
   ]
  },
  {
   "cell_type": "markdown",
   "id": "5fe7b956-fdc0-4b95-81d9-590efa8ef1cb",
   "metadata": {},
   "source": [
    "## 2. "
   ]
  },
  {
   "cell_type": "markdown",
   "id": "3fabfefd-4d45-4450-b938-0c5c06287078",
   "metadata": {},
   "source": [
    "Using your acquired Zillow data, walk through the summarization and cleaning steps in your wrangle.ipynb file like we did above. You may handle the missing values however you feel is appropriate and meaninful; remember to document your process and decisions using markdown and code commenting where helpful."
   ]
  },
  {
   "cell_type": "markdown",
   "id": "534689de-0aa2-420a-a710-b7e39f1d358d",
   "metadata": {},
   "source": [
    "## Prepare / Wrangle"
   ]
  },
  {
   "cell_type": "markdown",
   "id": "064eaab1-f937-4e98-8100-534ca97db2ca",
   "metadata": {},
   "source": [
    "### Summarization"
   ]
  },
  {
   "cell_type": "code",
   "execution_count": 17,
   "id": "e98ac4fd-46fb-48c0-887f-3ecf7ece1f53",
   "metadata": {},
   "outputs": [
    {
     "data": {
      "text/plain": [
       "(2152863, 7)"
      ]
     },
     "execution_count": 17,
     "metadata": {},
     "output_type": "execute_result"
    }
   ],
   "source": [
    "# Obtian rows and columns\n",
    "df.shape"
   ]
  },
  {
   "cell_type": "code",
   "execution_count": 19,
   "id": "3401e72b-f5cb-42ee-8f7e-aab16770c71f",
   "metadata": {},
   "outputs": [
    {
     "data": {
      "text/html": [
       "<div>\n",
       "<style scoped>\n",
       "    .dataframe tbody tr th:only-of-type {\n",
       "        vertical-align: middle;\n",
       "    }\n",
       "\n",
       "    .dataframe tbody tr th {\n",
       "        vertical-align: top;\n",
       "    }\n",
       "\n",
       "    .dataframe thead th {\n",
       "        text-align: right;\n",
       "    }\n",
       "</style>\n",
       "<table border=\"1\" class=\"dataframe\">\n",
       "  <thead>\n",
       "    <tr style=\"text-align: right;\">\n",
       "      <th></th>\n",
       "      <th>count</th>\n",
       "      <th>mean</th>\n",
       "      <th>std</th>\n",
       "      <th>min</th>\n",
       "      <th>25%</th>\n",
       "      <th>50%</th>\n",
       "      <th>75%</th>\n",
       "      <th>max</th>\n",
       "    </tr>\n",
       "  </thead>\n",
       "  <tbody>\n",
       "    <tr>\n",
       "      <th>bedrooms</th>\n",
       "      <td>2152852.0</td>\n",
       "      <td>3.287196</td>\n",
       "      <td>0.954754</td>\n",
       "      <td>0.00</td>\n",
       "      <td>3.00</td>\n",
       "      <td>3.00</td>\n",
       "      <td>4.00</td>\n",
       "      <td>25.00</td>\n",
       "    </tr>\n",
       "    <tr>\n",
       "      <th>bathrooms</th>\n",
       "      <td>2152852.0</td>\n",
       "      <td>2.230688</td>\n",
       "      <td>0.999280</td>\n",
       "      <td>0.00</td>\n",
       "      <td>2.00</td>\n",
       "      <td>2.00</td>\n",
       "      <td>3.00</td>\n",
       "      <td>32.00</td>\n",
       "    </tr>\n",
       "    <tr>\n",
       "      <th>square_feet</th>\n",
       "      <td>2144379.0</td>\n",
       "      <td>1862.855178</td>\n",
       "      <td>1222.125124</td>\n",
       "      <td>1.00</td>\n",
       "      <td>1257.00</td>\n",
       "      <td>1623.00</td>\n",
       "      <td>2208.00</td>\n",
       "      <td>952576.00</td>\n",
       "    </tr>\n",
       "    <tr>\n",
       "      <th>tax_assessed_value_USD</th>\n",
       "      <td>2152370.0</td>\n",
       "      <td>461896.237963</td>\n",
       "      <td>699676.049600</td>\n",
       "      <td>1.00</td>\n",
       "      <td>188170.25</td>\n",
       "      <td>327671.00</td>\n",
       "      <td>534527.00</td>\n",
       "      <td>98428909.00</td>\n",
       "    </tr>\n",
       "    <tr>\n",
       "      <th>year_built</th>\n",
       "      <td>2143526.0</td>\n",
       "      <td>1960.949681</td>\n",
       "      <td>22.162196</td>\n",
       "      <td>1801.00</td>\n",
       "      <td>1949.00</td>\n",
       "      <td>1958.00</td>\n",
       "      <td>1976.00</td>\n",
       "      <td>2016.00</td>\n",
       "    </tr>\n",
       "    <tr>\n",
       "      <th>tax_amount</th>\n",
       "      <td>2148421.0</td>\n",
       "      <td>5634.865978</td>\n",
       "      <td>8178.910249</td>\n",
       "      <td>1.85</td>\n",
       "      <td>2534.98</td>\n",
       "      <td>4108.95</td>\n",
       "      <td>6414.32</td>\n",
       "      <td>1337755.86</td>\n",
       "    </tr>\n",
       "    <tr>\n",
       "      <th>fed_code</th>\n",
       "      <td>2152863.0</td>\n",
       "      <td>6048.377335</td>\n",
       "      <td>20.433292</td>\n",
       "      <td>6037.00</td>\n",
       "      <td>6037.00</td>\n",
       "      <td>6037.00</td>\n",
       "      <td>6059.00</td>\n",
       "      <td>6111.00</td>\n",
       "    </tr>\n",
       "  </tbody>\n",
       "</table>\n",
       "</div>"
      ],
      "text/plain": [
       "                            count           mean            std      min  \\\n",
       "bedrooms                2152852.0       3.287196       0.954754     0.00   \n",
       "bathrooms               2152852.0       2.230688       0.999280     0.00   \n",
       "square_feet             2144379.0    1862.855178    1222.125124     1.00   \n",
       "tax_assessed_value_USD  2152370.0  461896.237963  699676.049600     1.00   \n",
       "year_built              2143526.0    1960.949681      22.162196  1801.00   \n",
       "tax_amount              2148421.0    5634.865978    8178.910249     1.85   \n",
       "fed_code                2152863.0    6048.377335      20.433292  6037.00   \n",
       "\n",
       "                              25%        50%        75%          max  \n",
       "bedrooms                     3.00       3.00       4.00        25.00  \n",
       "bathrooms                    2.00       2.00       3.00        32.00  \n",
       "square_feet               1257.00    1623.00    2208.00    952576.00  \n",
       "tax_assessed_value_USD  188170.25  327671.00  534527.00  98428909.00  \n",
       "year_built                1949.00    1958.00    1976.00      2016.00  \n",
       "tax_amount                2534.98    4108.95    6414.32   1337755.86  \n",
       "fed_code                  6037.00    6037.00    6059.00      6111.00  "
      ]
     },
     "execution_count": 19,
     "metadata": {},
     "output_type": "execute_result"
    }
   ],
   "source": [
    "# Obtain Summary Statistics\n",
    "df.describe().T"
   ]
  },
  {
   "cell_type": "markdown",
   "id": "c6f69973-b4d0-40c9-94a3-fbaac0d237ca",
   "metadata": {},
   "source": [
    "#### Observations:\n",
    "Make observations, visualize, clean, visualize, repeat\n",
    "\n",
    "COUNTS\n",
    "- bedrooom, bathrooms, square_feet, tax_assessed_value_USD, year_built, tax_amount have lower counts (missing values?)\n",
    "\n",
    "\n",
    "DATA TYPE Observations\n",
    "- bedrooms and bathrooms appear to be counts\n",
    "- fed_code appears to be an identifier (min and max, not much spread)\n",
    "- year_built is related to time\n",
    "- tax_assessed_value_USD and tax_amount is monetary\n",
    "\n",
    "\n",
    "STATS Observations: \n",
    "- min for square_feet is 1 which could be a data error of some sort\n",
    "- min for tax_assessed_value_USD is 1 which could be a data error of some sort\n",
    "- difference between mean and median could indicate skew - \n",
    "- standard deviation is larger in square_feet, tax_assessed_value_USD, and tax_amount\n",
    "    - a lot of spread (could mean it is not a normal distribution), would want to visualize\n",
    "\n",
    "\n",
    "OTHER Observations to Note if Present (but they are not currently in present data set):\n",
    "- outliers present where min is significantly different from bottom 25%, or max is significantly different than upper 75%\n",
    "- min and max suspicious, given data values; could indicate data error, outliers, or mistakes in labeling (incorrect assumptions on our part)\n",
    "- std deve = 0, means one number"
   ]
  },
  {
   "cell_type": "code",
   "execution_count": 20,
   "id": "afa85ff1-8034-4e41-9a37-4ecde19a316d",
   "metadata": {},
   "outputs": [
    {
     "name": "stdout",
     "output_type": "stream",
     "text": [
      "<class 'pandas.core.frame.DataFrame'>\n",
      "RangeIndex: 2152863 entries, 0 to 2152862\n",
      "Data columns (total 7 columns):\n",
      " #   Column                  Non-Null Count    Dtype  \n",
      "---  ------                  --------------    -----  \n",
      " 0   bedrooms                2152852 non-null  float64\n",
      " 1   bathrooms               2152852 non-null  float64\n",
      " 2   square_feet             2144379 non-null  float64\n",
      " 3   tax_assessed_value_USD  2152370 non-null  float64\n",
      " 4   year_built              2143526 non-null  float64\n",
      " 5   tax_amount              2148421 non-null  float64\n",
      " 6   fed_code                2152863 non-null  float64\n",
      "dtypes: float64(7)\n",
      "memory usage: 115.0 MB\n"
     ]
    }
   ],
   "source": [
    "# Obtian data types and non-null counts\n",
    "df.info(show_counts=True)"
   ]
  },
  {
   "cell_type": "code",
   "execution_count": 25,
   "id": "b14bca12-eed8-4b5e-bd54-fd185b8b08ab",
   "metadata": {},
   "outputs": [
    {
     "data": {
      "text/plain": [
       "bedrooms                    11\n",
       "bathrooms                   11\n",
       "square_feet               8484\n",
       "tax_assessed_value_USD     493\n",
       "year_built                9337\n",
       "tax_amount                4442\n",
       "fed_code                     0\n",
       "dtype: int64"
      ]
     },
     "execution_count": 25,
     "metadata": {},
     "output_type": "execute_result"
    }
   ],
   "source": [
    "# Calculate count of nulls for each column\n",
    "df.isna().sum()"
   ]
  },
  {
   "cell_type": "code",
   "execution_count": 24,
   "id": "731b126d-e78f-4f1b-9429-2d7fbd4f1392",
   "metadata": {},
   "outputs": [
    {
     "data": {
      "text/plain": [
       "bedrooms                  0.000005\n",
       "bathrooms                 0.000005\n",
       "square_feet               0.003941\n",
       "tax_assessed_value_USD    0.000229\n",
       "year_built                0.004337\n",
       "tax_amount                0.002063\n",
       "fed_code                  0.000000\n",
       "dtype: float64"
      ]
     },
     "execution_count": 24,
     "metadata": {},
     "output_type": "execute_result"
    }
   ],
   "source": [
    "# Caculate percentage of nulls in each column to decide whether to drop or impute\n",
    "df.isna().mean()"
   ]
  },
  {
   "cell_type": "code",
   "execution_count": null,
   "id": "2a5677db-3d54-404c-8bba-b5ce5655f62b",
   "metadata": {},
   "outputs": [],
   "source": []
  },
  {
   "cell_type": "markdown",
   "id": "1ae4a5be-96f9-4cf4-89f9-41f0144a0bb0",
   "metadata": {},
   "source": [
    "## 3. "
   ]
  },
  {
   "cell_type": "markdown",
   "id": "448b704e-bb96-41de-83a5-d8b46473bfb4",
   "metadata": {},
   "source": [
    "Store all of the necessary functions to automate your process from acquiring the data to returning a cleaned dataframe witn no missing values in your wrangle.py file. Name your final function wrangle_zillow."
   ]
  },
  {
   "cell_type": "code",
   "execution_count": null,
   "id": "3900e4e6-ee93-4223-8c2a-a6a4f43ab71a",
   "metadata": {},
   "outputs": [],
   "source": []
  }
 ],
 "metadata": {
  "kernelspec": {
   "display_name": "Python 3 (ipykernel)",
   "language": "python",
   "name": "python3"
  },
  "language_info": {
   "codemirror_mode": {
    "name": "ipython",
    "version": 3
   },
   "file_extension": ".py",
   "mimetype": "text/x-python",
   "name": "python",
   "nbconvert_exporter": "python",
   "pygments_lexer": "ipython3",
   "version": "3.9.7"
  }
 },
 "nbformat": 4,
 "nbformat_minor": 5
}
