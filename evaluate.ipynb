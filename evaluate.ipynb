{
 "cells": [
  {
   "cell_type": "markdown",
   "id": "bf4a34c1-76b6-4a88-a3aa-dfeeadd42c60",
   "metadata": {},
   "source": [
    "# Evaluate Exercises"
   ]
  },
  {
   "cell_type": "markdown",
   "id": "a3a8d3f6-3da5-48dc-8d87-fb561ed2295f",
   "metadata": {},
   "source": [
    "Do you work for this exercise in either a jupyter notebook named evaluate within your regression-exercises repository. By the end of this exercise you will also create a python script named evaluate, so the overall deliverables for this exercise are the python script and jupyter notebook both with the name evaluate within your regression-exercises repo."
   ]
  },
  {
   "cell_type": "code",
   "execution_count": 1,
   "id": "6f2aeaf7-dfdc-441b-8602-8e188385e694",
   "metadata": {},
   "outputs": [],
   "source": [
    "import pandas as pd\n",
    "import numpy as np"
   ]
  },
  {
   "cell_type": "markdown",
   "id": "5807df93-2e0b-484b-bedc-3b0c2f17ad53",
   "metadata": {},
   "source": [
    "# 1. "
   ]
  },
  {
   "cell_type": "markdown",
   "id": "79351ce5-fafd-4cde-9c84-8c08acd15568",
   "metadata": {},
   "source": [
    "Load the tips dataset from either pydataset or seaborn."
   ]
  },
  {
   "cell_type": "code",
   "execution_count": null,
   "id": "bea68743-5da5-4b1d-a4a4-bb6c5d75be59",
   "metadata": {},
   "outputs": [],
   "source": []
  },
  {
   "cell_type": "markdown",
   "id": "e30bc9e5-5cad-472d-b909-1e2ec5cb9283",
   "metadata": {},
   "source": [
    "# 2."
   ]
  },
  {
   "cell_type": "markdown",
   "id": "5afc06c4-0998-4bee-bbdc-1a14746c2ac6",
   "metadata": {},
   "source": [
    "Fit a linear regression model (ordinary least squares) and compute yhat, predictions of tip using total_bill.\n",
    "\n",
    "Here is some sample code to get you started:"
   ]
  },
  {
   "cell_type": "code",
   "execution_count": 3,
   "id": "d3db10d4-c22a-402b-bd2b-2d69b774993a",
   "metadata": {},
   "outputs": [
    {
     "data": {
      "text/plain": [
       "'\\nfrom sklearn.linear_model import LinearRegression\\n\\n# assuming X and y are already defined\\nmodel = LinearRegression().fit(X, y)\\npredictions = model.predict(X)\\n'"
      ]
     },
     "execution_count": 3,
     "metadata": {},
     "output_type": "execute_result"
    }
   ],
   "source": [
    "'''\n",
    "from sklearn.linear_model import LinearRegression\n",
    "\n",
    "# assuming X and y are already defined\n",
    "model = LinearRegression().fit(X, y)\n",
    "predictions = model.predict(X)\n",
    "'''"
   ]
  },
  {
   "cell_type": "markdown",
   "id": "c9d6b804-7da6-4f25-88b3-1487b29369a1",
   "metadata": {},
   "source": [
    "Modify and add to the code above as necessary for it to work with the tips dataset."
   ]
  },
  {
   "cell_type": "code",
   "execution_count": null,
   "id": "18394d6e-bc01-4a0b-95d3-0c43ea161928",
   "metadata": {},
   "outputs": [],
   "source": []
  },
  {
   "cell_type": "markdown",
   "id": "a3ed666d-0554-400d-aa22-a8440616f75e",
   "metadata": {},
   "source": [
    "# 3. "
   ]
  },
  {
   "cell_type": "markdown",
   "id": "52bdb393-2944-4a87-b34b-57f68c501f23",
   "metadata": {},
   "source": [
    "Plot the residuals for the linear regression model that you made."
   ]
  },
  {
   "cell_type": "code",
   "execution_count": null,
   "id": "f58a4b93-574b-4836-b2ea-2db74ff77874",
   "metadata": {},
   "outputs": [],
   "source": []
  },
  {
   "cell_type": "markdown",
   "id": "19a6172b-c7dc-462f-be0f-7902d82dbe9f",
   "metadata": {},
   "source": [
    "# 4. "
   ]
  },
  {
   "cell_type": "markdown",
   "id": "65dbc0ea-533e-43cf-a64a-8313c88d8bd3",
   "metadata": {},
   "source": [
    "Calculate the sum of squared errors, explained sum of squares, total sum of squares, mean squared error, and root mean squared error for your model."
   ]
  },
  {
   "cell_type": "code",
   "execution_count": null,
   "id": "3e57cac9-f018-4308-8622-1bb6b50dc7a5",
   "metadata": {},
   "outputs": [],
   "source": []
  },
  {
   "cell_type": "markdown",
   "id": "0afa2e48-3f83-4358-9ad0-dd2a5c1e31ae",
   "metadata": {},
   "source": [
    "# 5. "
   ]
  },
  {
   "cell_type": "markdown",
   "id": "f48a0274-54a0-4186-86d3-9cdab06fee8d",
   "metadata": {},
   "source": [
    "Calculate the sum of squared errors, mean squared error, and root mean squared error for the baseline model (i.e. a model that always predicts the average tip amount)."
   ]
  },
  {
   "cell_type": "code",
   "execution_count": null,
   "id": "f04dfff7-cc4e-4ab8-9271-86b4df38ee97",
   "metadata": {},
   "outputs": [],
   "source": []
  },
  {
   "cell_type": "markdown",
   "id": "c753c2b1-c81f-4181-95dd-5d821a7ea6aa",
   "metadata": {},
   "source": [
    "# 6. "
   ]
  },
  {
   "cell_type": "markdown",
   "id": "73061e20-7589-420b-881d-acf750323ed2",
   "metadata": {},
   "source": [
    "Write python code that compares the sum of squared errors for your model against the sum of squared errors for the baseline model and outputs whether or not your model performs better than the baseline model."
   ]
  },
  {
   "cell_type": "code",
   "execution_count": null,
   "id": "114058d7-1e3a-456d-8d3b-17f7adc77ed6",
   "metadata": {},
   "outputs": [],
   "source": []
  },
  {
   "cell_type": "markdown",
   "id": "cc2a31fe-89c0-4a64-b1db-2e5fa31ab967",
   "metadata": {},
   "source": [
    "# 7. "
   ]
  },
  {
   "cell_type": "markdown",
   "id": "e423c5aa-ab03-4e62-aef7-bed25c5dbe40",
   "metadata": {},
   "source": [
    "What is the amount of variance explained in your model?"
   ]
  },
  {
   "cell_type": "code",
   "execution_count": null,
   "id": "49d65612-3faa-4564-bd3e-3ad74ca505c2",
   "metadata": {},
   "outputs": [],
   "source": []
  },
  {
   "cell_type": "markdown",
   "id": "5ef27968-d096-4efa-9664-4195160a3a8d",
   "metadata": {},
   "source": [
    "# 8."
   ]
  },
  {
   "cell_type": "markdown",
   "id": "5d39ff66-134c-400c-9d1d-4f4685b6d664",
   "metadata": {},
   "source": [
    "Is your model better than the baseline model?"
   ]
  },
  {
   "cell_type": "code",
   "execution_count": null,
   "id": "f3416992-3f84-45a9-9f75-1b8b979ad2fd",
   "metadata": {},
   "outputs": [],
   "source": []
  },
  {
   "cell_type": "markdown",
   "id": "3ef4b076-51d4-48af-a481-242422df4a90",
   "metadata": {},
   "source": [
    "# 9."
   ]
  },
  {
   "cell_type": "markdown",
   "id": "18ca9f06-3018-4757-a2cc-e13cdbe40461",
   "metadata": {},
   "source": [
    "Create a file named evaluate.py that contains the following functions.\n",
    "\n",
    "- plot_residuals(y, yhat): creates a residual plot\n",
    "- regression_errors(y, yhat): returns the following values:\n",
    " - sum of squared errors (SSE)\n",
    " - explained sum of squares (ESS)\n",
    " - total sum of squares (TSS)\n",
    " - mean squared error (MSE)\n",
    " - root mean squared error (RMSE)\n",
    "- baseline_mean_errors(y): computes the SSE, MSE, and RMSE for the baseline model\n",
    "- better_than_baseline(y, yhat): returns true if your model performs better than the baseline, otherwise false"
   ]
  },
  {
   "cell_type": "code",
   "execution_count": null,
   "id": "c910ef05-ab9a-4aac-a1ff-e096a4370cc3",
   "metadata": {},
   "outputs": [],
   "source": []
  },
  {
   "cell_type": "markdown",
   "id": "920ddafb-1717-4dc6-9589-758265b3fdf1",
   "metadata": {},
   "source": [
    "# 9."
   ]
  },
  {
   "cell_type": "markdown",
   "id": "d618d8e5-668a-419c-b17e-535c98f409d7",
   "metadata": {},
   "source": [
    "Load the mpg dataset and fit a model that predicts highway mileage based on engine displacement. Take a look at all the regression evaluation metrics, and determine whether this model is better than the baseline model. Use the functions from your evaluate.py to help accomplish this."
   ]
  }
 ],
 "metadata": {
  "kernelspec": {
   "display_name": "Python 3 (ipykernel)",
   "language": "python",
   "name": "python3"
  },
  "language_info": {
   "codemirror_mode": {
    "name": "ipython",
    "version": 3
   },
   "file_extension": ".py",
   "mimetype": "text/x-python",
   "name": "python",
   "nbconvert_exporter": "python",
   "pygments_lexer": "ipython3",
   "version": "3.9.7"
  }
 },
 "nbformat": 4,
 "nbformat_minor": 5
}
