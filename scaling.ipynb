{
 "cells": [
  {
   "cell_type": "markdown",
   "id": "49872898-8f3b-4f46-a7d6-475be48f86ee",
   "metadata": {},
   "source": [
    "# Scaling Exercises\n",
    "Not graded per Zach 18 March 202"
   ]
  },
  {
   "cell_type": "code",
   "execution_count": 1,
   "id": "96b31bfa-4a09-4a28-b39f-69df76046c55",
   "metadata": {},
   "outputs": [],
   "source": [
    "import matplotlib.pyplot as plt\n",
    "import numpy as np\n",
    "from scipy import stats\n",
    "import sklearn.preprocessing\n",
    "from sklearn.model_selection import train_test_split\n",
    "import pandas as pd\n",
    "\n",
    "import classification_acquire\n",
    "import classification_prepare"
   ]
  },
  {
   "cell_type": "code",
   "execution_count": 2,
   "id": "dc93e211-6db8-474e-a6c6-74b7e3d1a885",
   "metadata": {},
   "outputs": [
    {
     "name": "stdout",
     "output_type": "stream",
     "text": [
      "Here is a histogram of the dataset we will be working with.\n"
     ]
    },
    {
     "data": {
      "image/png": "[encoded data removed]",
      "text/plain": [
       "<Figure size 432x288 with 1 Axes>"
      ]
     },
     "metadata": {
      "needs_background": "light"
     },
     "output_type": "display_data"
    }
   ],
   "source": [
    "np.random.seed(123)\n",
    "\n",
    "x = stats.skewnorm(7).rvs(1500) * 10 + 100\n",
    "x = x.reshape(-1, 1)\n",
    "\n",
    "plt.hist(x, bins=25,ec='black')\n",
    "print('Here is a histogram of the dataset we will be working with.')"
   ]
  },
  {
   "cell_type": "markdown",
   "id": "f6c9732e-1eaa-4e3e-b61b-499d6fa52e53",
   "metadata": {},
   "source": [
    "- Do your work for these exercises in a jupyter notebook named scaling. Use the telco dataset you acquired and prepped in previous lesson. Once you are finished, you may wish to repeat the exercises on another dataset for additional practice."
   ]
  },
  {
   "cell_type": "code",
   "execution_count": 6,
   "id": "dc5068a7-9136-4944-a7de-cb5631ff7835",
   "metadata": {},
   "outputs": [
    {
     "name": "stdout",
     "output_type": "stream",
     "text": [
      "Reading from csv file...\n"
     ]
    }
   ],
   "source": [
    "df = classification_acquire.get_telco_data()"
   ]
  },
  {
   "cell_type": "code",
   "execution_count": 8,
   "id": "ad2cae5d-3e44-420f-95dc-d2d11284c9d0",
   "metadata": {},
   "outputs": [],
   "source": [
    "df = classification_prepare.clean_telco_data(df)"
   ]
  },
  {
   "cell_type": "code",
   "execution_count": 9,
   "id": "804354fe-ab8e-4ad7-a1bf-ee821d354f4c",
   "metadata": {},
   "outputs": [
    {
     "data": {
      "text/html": [
       "<div>\n",
       "<style scoped>\n",
       "    .dataframe tbody tr th:only-of-type {\n",
       "        vertical-align: middle;\n",
       "    }\n",
       "\n",
       "    .dataframe tbody tr th {\n",
       "        vertical-align: top;\n",
       "    }\n",
       "\n",
       "    .dataframe thead th {\n",
       "        text-align: right;\n",
       "    }\n",
       "</style>\n",
       "<table border=\"1\" class=\"dataframe\">\n",
       "  <thead>\n",
       "    <tr style=\"text-align: right;\">\n",
       "      <th></th>\n",
       "      <th>customer_id</th>\n",
       "      <th>is_senior</th>\n",
       "      <th>tenure_months</th>\n",
       "      <th>monthly_charges</th>\n",
       "      <th>total_charges</th>\n",
       "      <th>contract_type</th>\n",
       "      <th>internet_service_type</th>\n",
       "      <th>payment_type</th>\n",
       "      <th>is_male_Male</th>\n",
       "      <th>has_partner_Yes</th>\n",
       "      <th>...</th>\n",
       "      <th>has_streaming_movies_Yes</th>\n",
       "      <th>has_paperless_billing_Yes</th>\n",
       "      <th>did_churn_Yes</th>\n",
       "      <th>contract_type_One year</th>\n",
       "      <th>contract_type_Two year</th>\n",
       "      <th>internet_service_type_Fiber optic</th>\n",
       "      <th>internet_service_type_None</th>\n",
       "      <th>payment_type_Credit card (automatic)</th>\n",
       "      <th>payment_type_Electronic check</th>\n",
       "      <th>payment_type_Mailed check</th>\n",
       "    </tr>\n",
       "  </thead>\n",
       "  <tbody>\n",
       "    <tr>\n",
       "      <th>0</th>\n",
       "      <td>2162-FRZAA</td>\n",
       "      <td>0</td>\n",
       "      <td>63</td>\n",
       "      <td>39.35</td>\n",
       "      <td>2395.05</td>\n",
       "      <td>Two year</td>\n",
       "      <td>DSL</td>\n",
       "      <td>Bank transfer (automatic)</td>\n",
       "      <td>1</td>\n",
       "      <td>1</td>\n",
       "      <td>...</td>\n",
       "      <td>0</td>\n",
       "      <td>0</td>\n",
       "      <td>0</td>\n",
       "      <td>0</td>\n",
       "      <td>1</td>\n",
       "      <td>0</td>\n",
       "      <td>0</td>\n",
       "      <td>0</td>\n",
       "      <td>0</td>\n",
       "      <td>0</td>\n",
       "    </tr>\n",
       "    <tr>\n",
       "      <th>1</th>\n",
       "      <td>2160-GPFXD</td>\n",
       "      <td>0</td>\n",
       "      <td>54</td>\n",
       "      <td>65.65</td>\n",
       "      <td>3566.70</td>\n",
       "      <td>Two year</td>\n",
       "      <td>DSL</td>\n",
       "      <td>Credit card (automatic)</td>\n",
       "      <td>1</td>\n",
       "      <td>1</td>\n",
       "      <td>...</td>\n",
       "      <td>0</td>\n",
       "      <td>1</td>\n",
       "      <td>0</td>\n",
       "      <td>0</td>\n",
       "      <td>1</td>\n",
       "      <td>0</td>\n",
       "      <td>0</td>\n",
       "      <td>1</td>\n",
       "      <td>0</td>\n",
       "      <td>0</td>\n",
       "    </tr>\n",
       "    <tr>\n",
       "      <th>2</th>\n",
       "      <td>2157-MXBJS</td>\n",
       "      <td>0</td>\n",
       "      <td>13</td>\n",
       "      <td>75.30</td>\n",
       "      <td>989.45</td>\n",
       "      <td>One year</td>\n",
       "      <td>DSL</td>\n",
       "      <td>Mailed check</td>\n",
       "      <td>1</td>\n",
       "      <td>1</td>\n",
       "      <td>...</td>\n",
       "      <td>1</td>\n",
       "      <td>1</td>\n",
       "      <td>1</td>\n",
       "      <td>1</td>\n",
       "      <td>0</td>\n",
       "      <td>0</td>\n",
       "      <td>0</td>\n",
       "      <td>0</td>\n",
       "      <td>0</td>\n",
       "      <td>1</td>\n",
       "    </tr>\n",
       "    <tr>\n",
       "      <th>3</th>\n",
       "      <td>2155-AMQRX</td>\n",
       "      <td>0</td>\n",
       "      <td>28</td>\n",
       "      <td>54.90</td>\n",
       "      <td>1505.15</td>\n",
       "      <td>Month-to-month</td>\n",
       "      <td>DSL</td>\n",
       "      <td>Credit card (automatic)</td>\n",
       "      <td>0</td>\n",
       "      <td>0</td>\n",
       "      <td>...</td>\n",
       "      <td>0</td>\n",
       "      <td>1</td>\n",
       "      <td>0</td>\n",
       "      <td>0</td>\n",
       "      <td>0</td>\n",
       "      <td>0</td>\n",
       "      <td>0</td>\n",
       "      <td>1</td>\n",
       "      <td>0</td>\n",
       "      <td>0</td>\n",
       "    </tr>\n",
       "    <tr>\n",
       "      <th>4</th>\n",
       "      <td>2150-WLKUW</td>\n",
       "      <td>0</td>\n",
       "      <td>40</td>\n",
       "      <td>63.90</td>\n",
       "      <td>2635.00</td>\n",
       "      <td>One year</td>\n",
       "      <td>DSL</td>\n",
       "      <td>Bank transfer (automatic)</td>\n",
       "      <td>0</td>\n",
       "      <td>1</td>\n",
       "      <td>...</td>\n",
       "      <td>0</td>\n",
       "      <td>0</td>\n",
       "      <td>0</td>\n",
       "      <td>1</td>\n",
       "      <td>0</td>\n",
       "      <td>0</td>\n",
       "      <td>0</td>\n",
       "      <td>0</td>\n",
       "      <td>0</td>\n",
       "      <td>0</td>\n",
       "    </tr>\n",
       "  </tbody>\n",
       "</table>\n",
       "<p>5 rows × 35 columns</p>\n",
       "</div>"
      ],
      "text/plain": [
       "  customer_id  is_senior  tenure_months  monthly_charges  total_charges  \\\n",
       "0  2162-FRZAA          0             63            39.35        2395.05   \n",
       "1  2160-GPFXD          0             54            65.65        3566.70   \n",
       "2  2157-MXBJS          0             13            75.30         989.45   \n",
       "3  2155-AMQRX          0             28            54.90        1505.15   \n",
       "4  2150-WLKUW          0             40            63.90        2635.00   \n",
       "\n",
       "    contract_type internet_service_type               payment_type  \\\n",
       "0        Two year                   DSL  Bank transfer (automatic)   \n",
       "1        Two year                   DSL    Credit card (automatic)   \n",
       "2        One year                   DSL               Mailed check   \n",
       "3  Month-to-month                   DSL    Credit card (automatic)   \n",
       "4        One year                   DSL  Bank transfer (automatic)   \n",
       "\n",
       "   is_male_Male  has_partner_Yes  ...  has_streaming_movies_Yes  \\\n",
       "0             1                1  ...                         0   \n",
       "1             1                1  ...                         0   \n",
       "2             1                1  ...                         1   \n",
       "3             0                0  ...                         0   \n",
       "4             0                1  ...                         0   \n",
       "\n",
       "   has_paperless_billing_Yes  did_churn_Yes  contract_type_One year  \\\n",
       "0                          0              0                       0   \n",
       "1                          1              0                       0   \n",
       "2                          1              1                       1   \n",
       "3                          1              0                       0   \n",
       "4                          0              0                       1   \n",
       "\n",
       "   contract_type_Two year  internet_service_type_Fiber optic  \\\n",
       "0                       1                                  0   \n",
       "1                       1                                  0   \n",
       "2                       0                                  0   \n",
       "3                       0                                  0   \n",
       "4                       0                                  0   \n",
       "\n",
       "   internet_service_type_None  payment_type_Credit card (automatic)  \\\n",
       "0                           0                                     0   \n",
       "1                           0                                     1   \n",
       "2                           0                                     0   \n",
       "3                           0                                     1   \n",
       "4                           0                                     0   \n",
       "\n",
       "   payment_type_Electronic check  payment_type_Mailed check  \n",
       "0                              0                          0  \n",
       "1                              0                          0  \n",
       "2                              0                          1  \n",
       "3                              0                          0  \n",
       "4                              0                          0  \n",
       "\n",
       "[5 rows x 35 columns]"
      ]
     },
     "execution_count": 9,
     "metadata": {},
     "output_type": "execute_result"
    }
   ],
   "source": [
    "df.head()"
   ]
  },
  {
   "cell_type": "markdown",
   "id": "13538da1-c032-4d32-9fa7-db44ad887114",
   "metadata": {},
   "source": [
    "## 1. "
   ]
  },
  {
   "cell_type": "code",
   "execution_count": 11,
   "id": "30eac854-9047-4df0-b110-6d28b60e4c2e",
   "metadata": {},
   "outputs": [],
   "source": [
    "def train_validate_test_split(df, target, seed=123):\n",
    "    train_validate, test = train_test_split(df, test_size=0.2, \n",
    "                                            random_state=seed)\n",
    "    train, validate = train_test_split(train_validate, test_size=0.3, \n",
    "                                       random_state=seed)\n",
    "    \n",
    "    print(f'train --> {train.shape}')\n",
    "    print(f'validate --> {validate.shape}')\n",
    "    print(f'test --> {test.shape}')\n",
    "    \n",
    "    return train, validate, test"
   ]
  },
  {
   "cell_type": "code",
   "execution_count": 21,
   "id": "2833d1b2-973e-41c9-aa2f-6bb786614f1f",
   "metadata": {},
   "outputs": [
    {
     "name": "stdout",
     "output_type": "stream",
     "text": [
      "train --> (3937, 35)\n",
      "validate --> (1688, 35)\n",
      "test --> (1407, 35)\n"
     ]
    }
   ],
   "source": [
    "train, validate, test = train_validate_test_split(df, target='did_churn_Yes', seed=123)\n",
    "\n",
    "X_train = train.drop(columns=['did_churn_Yes'])\n",
    "y_train = train.did_churn_Yes\n",
    "\n",
    "X_validate = validate.drop(columns=['did_churn_Yes'])\n",
    "y_validate = validate.did_churn_Yes\n",
    "\n",
    "X_test = test.drop(columns=['did_churn_Yes'])\n",
    "y_test = test.did_churn_Yes"
   ]
  },
  {
   "cell_type": "markdown",
   "id": "bff40be2-9644-4fdb-bd47-c200dffba247",
   "metadata": {},
   "source": [
    "Apply the scalers we talked about in this lesson to your data and visualize the results for the unscaled and scaled distribution."
   ]
  },
  {
   "cell_type": "markdown",
   "id": "e17aae72-284b-4e2f-9892-984c786d98c5",
   "metadata": {},
   "source": [
    "### MIN MAX Scaler"
   ]
  },
  {
   "cell_type": "code",
   "execution_count": 17,
   "id": "d9cfb0b3-4bcc-4d7f-926d-ead18f7b4843",
   "metadata": {},
   "outputs": [
    {
     "name": "stdout",
     "output_type": "stream",
     "text": [
      "Min Max Scaler\n"
     ]
    },
    {
     "data": {
      "text/plain": [
       "Text(0.5, 1.0, 'Scaled')"
      ]
     },
     "execution_count": 17,
     "metadata": {},
     "output_type": "execute_result"
    },
    {
     "data": {
      "image/png": "[encoded data removed]",
      "text/plain": [
       "<Figure size 936x432 with 2 Axes>"
      ]
     },
     "metadata": {
      "needs_background": "light"
     },
     "output_type": "display_data"
    }
   ],
   "source": [
    "scaler = sklearn.preprocessing.MinMaxScaler()\n",
    "# Note that we only call .fit with the training data,\n",
    "# but we use .transform to apply the scaling to all the data splits.\n",
    "scaler.fit(x_train)\n",
    "\n",
    "x_train_scaled = scaler.transform(x_train)\n",
    "x_validate_scaled = scaler.transform(x_validate)\n",
    "x_test_scaled = scaler.transform(x_test)\n",
    "\n",
    "print('Min Max Scaler')\n",
    "plt.figure(figsize=(13, 6))\n",
    "plt.subplot(121)\n",
    "plt.hist(x_train, bins=25, ec='black')\n",
    "plt.title('Original')\n",
    "plt.subplot(122)\n",
    "plt.hist(x_train_scaled, bins=25, ec='black')\n",
    "plt.title('Scaled')"
   ]
  },
  {
   "cell_type": "markdown",
   "id": "46d664f2-10bb-4ce5-96f1-b131fe7ecb93",
   "metadata": {},
   "source": [
    "## Standard Scaler"
   ]
  },
  {
   "cell_type": "code",
   "execution_count": 18,
   "id": "96025e72-6043-44d5-a5d3-266935f8a178",
   "metadata": {},
   "outputs": [
    {
     "data": {
      "text/plain": [
       "Text(0.5, 1.0, 'Scaled')"
      ]
     },
     "execution_count": 18,
     "metadata": {},
     "output_type": "execute_result"
    },
    {
     "data": {
      "image/png": "[encoded data removed]",
      "text/plain": [
       "<Figure size 936x432 with 2 Axes>"
      ]
     },
     "metadata": {
      "needs_background": "light"
     },
     "output_type": "display_data"
    }
   ],
   "source": [
    "scaler = sklearn.preprocessing.StandardScaler()\n",
    "# Note that we only call .fit with the training data,\n",
    "# but we use .transform to apply the scaling to all the data splits.\n",
    "scaler.fit(x_train)\n",
    "\n",
    "x_train_scaled = scaler.transform(x_train)\n",
    "x_validate_scaled = scaler.transform(x_validate)\n",
    "x_test_scaled = scaler.transform(x_test)\n",
    "\n",
    "plt.figure(figsize=(13, 6))\n",
    "plt.subplot(121)\n",
    "plt.hist(x_train, bins=25, ec='black')\n",
    "plt.title('Original')\n",
    "plt.subplot(122)\n",
    "plt.hist(x_train_scaled, bins=25, ec='black')\n",
    "plt.title('Scaled')"
   ]
  },
  {
   "cell_type": "markdown",
   "id": "c2a63952-e004-4d29-8d23-0e44d98e2d21",
   "metadata": {},
   "source": [
    "### Robust Scaler"
   ]
  },
  {
   "cell_type": "code",
   "execution_count": 20,
   "id": "459f612c-73af-4e80-ab3b-13db9983796b",
   "metadata": {},
   "outputs": [
    {
     "data": {
      "text/plain": [
       "Text(0.5, 1.0, 'Scaled')"
      ]
     },
     "execution_count": 20,
     "metadata": {},
     "output_type": "execute_result"
    },
    {
     "data": {
      "image/png": "[encoded data removed]",
      "text/plain": [
       "<Figure size 936x432 with 2 Axes>"
      ]
     },
     "metadata": {
      "needs_background": "light"
     },
     "output_type": "display_data"
    }
   ],
   "source": [
    "scaler = sklearn.preprocessing.RobustScaler()\n",
    "# Note that we only call .fit with the training data,\n",
    "# but we use .transform to apply the scaling to all the data splits.\n",
    "scaler.fit(x_train)\n",
    "\n",
    "x_train_scaled = scaler.transform(x_train)\n",
    "x_validate_scaled = scaler.transform(x_validate)\n",
    "x_test_scaled = scaler.transform(x_test)\n",
    "\n",
    "plt.figure(figsize=(13, 6))\n",
    "plt.subplot(121)\n",
    "plt.hist(x_train, bins=25, ec='black')\n",
    "plt.title('Original')\n",
    "plt.subplot(122)\n",
    "plt.hist(x_train_scaled, bins=25, ec='black')\n",
    "plt.title('Scaled')"
   ]
  },
  {
   "cell_type": "markdown",
   "id": "ff6df54b-736c-4eb3-a8c3-2a7b276ce3c4",
   "metadata": {},
   "source": [
    "## 2. "
   ]
  },
  {
   "cell_type": "markdown",
   "id": "7aa6a544-1152-4452-ad4a-fab66b33baf1",
   "metadata": {},
   "source": [
    "Apply the .inverse_transform method to your scaled data. Is the resulting dataset the exact same as the original data?"
   ]
  },
  {
   "cell_type": "code",
   "execution_count": null,
   "id": "ccd7f285-4868-49fc-8882-8c657127ff02",
   "metadata": {},
   "outputs": [],
   "source": []
  },
  {
   "cell_type": "markdown",
   "id": "913f57ba-45df-4f50-8870-21b49fa17483",
   "metadata": {},
   "source": [
    "## 3. "
   ]
  },
  {
   "cell_type": "markdown",
   "id": "b2e2171e-3ee4-4a77-b844-c34571876c91",
   "metadata": {},
   "source": [
    "Read the documentation for sklearn's QuantileTransformer. Use normal for the output_distribution and apply this scaler to your data. Visualize the result of your data scaling."
   ]
  },
  {
   "cell_type": "code",
   "execution_count": null,
   "id": "7b1a26ea-1970-48a7-a4a6-ebf0dfc29569",
   "metadata": {},
   "outputs": [],
   "source": []
  },
  {
   "cell_type": "markdown",
   "id": "c7847fe3-6c30-415e-8552-881030fcc6c6",
   "metadata": {},
   "source": [
    "## 4. "
   ]
  },
  {
   "cell_type": "markdown",
   "id": "7789892b-6676-4321-b0a8-c546124ce7e0",
   "metadata": {},
   "source": [
    "Use the QuantileTransformer, but omit the output_distribution argument. Visualize your results. What do you notice?"
   ]
  },
  {
   "cell_type": "code",
   "execution_count": null,
   "id": "9897b333-dcbe-48c9-9689-6d50db00e563",
   "metadata": {},
   "outputs": [],
   "source": []
  },
  {
   "cell_type": "markdown",
   "id": "c82ddb1a-efef-4793-a717-4a0cbf218f8d",
   "metadata": {},
   "source": [
    "## 5. "
   ]
  },
  {
   "cell_type": "markdown",
   "id": "aae5c5d8-78dd-4efe-b8a4-b68e0ff821f0",
   "metadata": {},
   "source": [
    "Based on the work you've done, choose a scaling method for your dataset. Write a function within your prepare.py that accepts as input the train, validate, and test data splits, and returns the scaled versions of each. Be sure to only learn the parameters for scaling from your training data!"
   ]
  },
  {
   "cell_type": "code",
   "execution_count": null,
   "id": "d35c12c2-8f83-4758-83ef-567a8ee48c66",
   "metadata": {},
   "outputs": [],
   "source": []
  }
 ],
 "metadata": {
  "kernelspec": {
   "display_name": "Python 3 (ipykernel)",
   "language": "python",
   "name": "python3"
  },
  "language_info": {
   "codemirror_mode": {
    "name": "ipython",
    "version": 3
   },
   "file_extension": ".py",
   "mimetype": "text/x-python",
   "name": "python",
   "nbconvert_exporter": "python",
   "pygments_lexer": "ipython3",
   "version": "3.9.7"
  }
 },
 "nbformat": 4,
 "nbformat_minor": 5
}
