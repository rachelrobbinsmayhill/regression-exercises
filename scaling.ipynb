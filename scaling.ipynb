{
 "cells": [
  {
   "cell_type": "markdown",
   "id": "49872898-8f3b-4f46-a7d6-475be48f86ee",
   "metadata": {},
   "source": [
    "# Scaling Exercises\n",
    "- Do your work for these exercises in a jupyter notebook named scaling. Use the telco dataset you acquired and prepped in previous lesson. Once you are finished, you may wish to repeat the exercises on another dataset for additional practice."
   ]
  },
  {
   "cell_type": "code",
   "execution_count": 1,
   "id": "1f7a7d51-e2bd-4634-877e-3e5c20c70a13",
   "metadata": {},
   "outputs": [
    {
     "name": "stdout",
     "output_type": "stream",
     "text": [
      "Here is a histogram of the dataset we will be working with.\n"
     ]
    },
    {
     "data": {
      "image/png": "[encoded data removed]",
      "text/plain": [
       "<Figure size 432x288 with 1 Axes>"
      ]
     },
     "metadata": {
      "needs_background": "light"
     },
     "output_type": "display_data"
    }
   ],
   "source": [
    "import matplotlib.pyplot as plt\n",
    "import numpy as np\n",
    "from scipy import stats\n",
    "import sklearn.preprocessing\n",
    "from sklearn.model_selection import train_test_split\n",
    "import pandas as pd\n",
    "\n",
    "np.random.seed(123)\n",
    "\n",
    "x = stats.skewnorm(7).rvs(1500) * 10 + 100\n",
    "x = x.reshape(-1, 1)\n",
    "\n",
    "plt.hist(x, bins=25,ec='black')\n",
    "print('Here is a histogram of the dataset we will be working with.')"
   ]
  },
  {
   "cell_type": "markdown",
   "id": "13538da1-c032-4d32-9fa7-db44ad887114",
   "metadata": {},
   "source": [
    "## 1. "
   ]
  },
  {
   "cell_type": "code",
   "execution_count": 2,
   "id": "0f9282dd-b36e-4466-bd21-875ffb039f64",
   "metadata": {},
   "outputs": [],
   "source": [
    "x_train_and_validate, x_test = train_test_split(x, random_state=123)\n",
    "x_train, x_validate = train_test_split(x_train_and_validate)"
   ]
  },
  {
   "cell_type": "markdown",
   "id": "bff40be2-9644-4fdb-bd47-c200dffba247",
   "metadata": {},
   "source": [
    "Apply the scalers we talked about in this lesson to your data and visualize the results for the unscaled and scaled distribution."
   ]
  },
  {
   "cell_type": "code",
   "execution_count": null,
   "id": "d9cfb0b3-4bcc-4d7f-926d-ead18f7b4843",
   "metadata": {},
   "outputs": [],
   "source": []
  },
  {
   "cell_type": "markdown",
   "id": "ff6df54b-736c-4eb3-a8c3-2a7b276ce3c4",
   "metadata": {},
   "source": [
    "## 2. "
   ]
  },
  {
   "cell_type": "markdown",
   "id": "7aa6a544-1152-4452-ad4a-fab66b33baf1",
   "metadata": {},
   "source": [
    "Apply the .inverse_transform method to your scaled data. Is the resulting dataset the exact same as the original data?"
   ]
  },
  {
   "cell_type": "code",
   "execution_count": null,
   "id": "ccd7f285-4868-49fc-8882-8c657127ff02",
   "metadata": {},
   "outputs": [],
   "source": []
  },
  {
   "cell_type": "markdown",
   "id": "913f57ba-45df-4f50-8870-21b49fa17483",
   "metadata": {},
   "source": [
    "## 3. "
   ]
  },
  {
   "cell_type": "markdown",
   "id": "b2e2171e-3ee4-4a77-b844-c34571876c91",
   "metadata": {},
   "source": [
    "Read the documentation for sklearn's QuantileTransformer. Use normal for the output_distribution and apply this scaler to your data. Visualize the result of your data scaling."
   ]
  },
  {
   "cell_type": "code",
   "execution_count": null,
   "id": "7b1a26ea-1970-48a7-a4a6-ebf0dfc29569",
   "metadata": {},
   "outputs": [],
   "source": []
  },
  {
   "cell_type": "markdown",
   "id": "c7847fe3-6c30-415e-8552-881030fcc6c6",
   "metadata": {},
   "source": [
    "## 4. "
   ]
  },
  {
   "cell_type": "markdown",
   "id": "7789892b-6676-4321-b0a8-c546124ce7e0",
   "metadata": {},
   "source": [
    "Use the QuantileTransformer, but omit the output_distribution argument. Visualize your results. What do you notice?"
   ]
  },
  {
   "cell_type": "code",
   "execution_count": null,
   "id": "9897b333-dcbe-48c9-9689-6d50db00e563",
   "metadata": {},
   "outputs": [],
   "source": []
  },
  {
   "cell_type": "markdown",
   "id": "c82ddb1a-efef-4793-a717-4a0cbf218f8d",
   "metadata": {},
   "source": [
    "## 5. "
   ]
  },
  {
   "cell_type": "markdown",
   "id": "aae5c5d8-78dd-4efe-b8a4-b68e0ff821f0",
   "metadata": {},
   "source": [
    "Based on the work you've done, choose a scaling method for your dataset. Write a function within your prepare.py that accepts as input the train, validate, and test data splits, and returns the scaled versions of each. Be sure to only learn the parameters for scaling from your training data!"
   ]
  },
  {
   "cell_type": "code",
   "execution_count": null,
   "id": "d35c12c2-8f83-4758-83ef-567a8ee48c66",
   "metadata": {},
   "outputs": [],
   "source": []
  }
 ],
 "metadata": {
  "kernelspec": {
   "display_name": "Python 3 (ipykernel)",
   "language": "python",
   "name": "python3"
  },
  "language_info": {
   "codemirror_mode": {
    "name": "ipython",
    "version": 3
   },
   "file_extension": ".py",
   "mimetype": "text/x-python",
   "name": "python",
   "nbconvert_exporter": "python",
   "pygments_lexer": "ipython3",
   "version": "3.9.7"
  }
 },
 "nbformat": 4,
 "nbformat_minor": 5
}
