{
 "cells": [
  {
   "cell_type": "markdown",
   "id": "b1ad70a4-9878-418d-b2fa-5d41734712ef",
   "metadata": {},
   "source": [
    "# Explore Exercises"
   ]
  },
  {
   "cell_type": "code",
   "execution_count": 2,
   "id": "b4e227ca-de93-4d5a-89c2-7b636fa8e415",
   "metadata": {},
   "outputs": [],
   "source": [
    "import warnings\n",
    "warnings.filterwarnings(\"ignore\")\n",
    "\n",
    "import pandas as pd\n",
    "import numpy as np\n",
    "\n",
    "import matplotlib.pyplot as plt\n",
    "import seaborn as sns\n",
    "\n",
    "from sklearn.model_selection import train_test_split\n",
    "from scipy.stats import pearsonr, spearmanr\n",
    "\n",
    "import env\n",
    "# import wrangle"
   ]
  },
  {
   "cell_type": "markdown",
   "id": "33afbcde-f134-4017-aafc-15949a05a284",
   "metadata": {},
   "source": [
    "# Exercises I - Required\n",
    "- Our Telco scenario continues:"
   ]
  },
  {
   "cell_type": "markdown",
   "id": "4003e5e0-349b-457e-aea3-70af98b58e4a",
   "metadata": {},
   "source": [
    "As a customer analyst for Telco, you want to know who has spent the most money with the company over their lifetime. You have monthly charges and tenure, so you think you will be able to use those two attributes as features to estimate total charges. You need to do this within an average of $5.00 per customer.\n",
    "\n",
    "In these exercises, you will run through the stages of exploration as you continue to work toward the above goal.\n",
    "\n",
    "Do your work in a notebook named explore.ipynb. In addition, you should create a file named explore.py that contains the following functions for exploring your variables (features & target)."
   ]
  },
  {
   "cell_type": "markdown",
   "id": "32266ba3-ad9a-438e-9e44-c5b2b6c56d9b",
   "metadata": {},
   "source": [
    "1. Make sure to perform a train, validate, test split before and use only your train dataset to explore the relationships between independent variables with other independent variables or independent variables with your target variable."
   ]
  },
  {
   "cell_type": "code",
   "execution_count": null,
   "id": "7560cba3-6a73-4428-9ebf-fd91c21473fd",
   "metadata": {},
   "outputs": [],
   "source": []
  },
  {
   "cell_type": "markdown",
   "id": "f4115421-982e-4979-98b6-fe0a047fbf47",
   "metadata": {},
   "source": [
    "2. Write a function named plot_variable_pairs that accepts a dataframe as input and plots all of the pairwise relationships along with the regression line for each pair."
   ]
  },
  {
   "cell_type": "code",
   "execution_count": null,
   "id": "ee29563f-751c-4325-92f2-152e2cd692b0",
   "metadata": {},
   "outputs": [],
   "source": []
  },
  {
   "cell_type": "markdown",
   "id": "938ef6c5-9b8c-483d-8d01-5af8233a823e",
   "metadata": {},
   "source": [
    "3. Write a function named months_to_years that accepts your telco churn dataframe and returns a dataframe with a new feature tenure_years, in complete years as a customer."
   ]
  },
  {
   "cell_type": "code",
   "execution_count": null,
   "id": "22a0aed2-a2b0-4f24-97c8-884977051b07",
   "metadata": {},
   "outputs": [],
   "source": []
  },
  {
   "cell_type": "markdown",
   "id": "15b2f21d-5daf-4965-b265-38176c3d7c13",
   "metadata": {},
   "source": [
    "4. Write a function named plot_categorical_and_continuous_vars that accepts your dataframe and the name of the columns that hold the continuous and categorical features and outputs 3 different plots for visualizing a categorical variable and a continuous variable."
   ]
  },
  {
   "cell_type": "code",
   "execution_count": null,
   "id": "f0deff4d-d5ba-4acc-b437-5606099dd0f4",
   "metadata": {},
   "outputs": [],
   "source": []
  },
  {
   "cell_type": "markdown",
   "id": "1d8ce9e6-b40b-4ce0-b072-9f7f8f15dbd1",
   "metadata": {},
   "source": [
    "5. Save the functions you have written to create visualizations in your explore.py file. Rewrite your notebook code so that you are using the functions imported from this file."
   ]
  },
  {
   "cell_type": "code",
   "execution_count": null,
   "id": "ee006b63-e708-4a38-a6b3-a002d5c40645",
   "metadata": {},
   "outputs": [],
   "source": []
  },
  {
   "cell_type": "markdown",
   "id": "12e5f03a-e955-40c3-856a-2ec302b97446",
   "metadata": {},
   "source": [
    "6. Explore your dataset with any other visualizations you think will be helpful."
   ]
  },
  {
   "cell_type": "code",
   "execution_count": null,
   "id": "1494f5cf-8d1e-4c01-acc9-9f260ff0faf3",
   "metadata": {},
   "outputs": [],
   "source": []
  },
  {
   "cell_type": "markdown",
   "id": "34d5d79d-2952-49cb-8253-c1e68e3a9f4b",
   "metadata": {},
   "source": [
    "7. In a seperate notebook, use the functions you have developed in this exercise with the mall_customers dataset in the Codeup database server. You will need to write a sql query to acquire your data. Make spending_score your target variable."
   ]
  },
  {
   "cell_type": "code",
   "execution_count": null,
   "id": "c8366eb6-896b-479c-b739-f10b19387872",
   "metadata": {},
   "outputs": [],
   "source": []
  },
  {
   "cell_type": "markdown",
   "id": "f422b21f-4097-44c7-8fc3-5c852cba294c",
   "metadata": {},
   "source": [
    "# Exercises II - Challenge"
   ]
  },
  {
   "cell_type": "markdown",
   "id": "ed1b377e-01e7-4780-9f5b-4e6282037ba9",
   "metadata": {},
   "source": [
    "Our Zillow scenario continues:\n",
    "\n",
    "As a Codeup data science graduate, you want to show off your skills to the Zillow data science team in hopes of getting an interview for a position you saw pop up on LinkedIn. You thought it might look impressive to build an end-to-end project in which you use some of their Kaggle data to predict property values using some of their available features; who knows, you might even do some feature engineering to blow them away. Your goal is to predict the values of single unit properties using the observations from 2017.\n",
    "\n",
    "In these exercises, you will run through the stages of exploration as you continue to work toward the above goal.\n",
    "\n",
    "Use the functions you created above to explore your Zillow train dataset in your explore.ipynb notebook.\n",
    "\n",
    "Come up with some initial hypotheses based on your goal of predicting property value.\n",
    "\n",
    "Visualize all combinations of variables in some way.\n",
    "\n",
    "Run the appropriate statistical tests where needed.\n",
    "\n",
    "What independent variables are correlated with the dependent variable, home value?\n",
    "\n",
    "Which independent variables are correlated with other independent variables (bedrooms, bathrooms, year built, square feet)?\n",
    "\n",
    "Make sure to document your takeaways from visualizations and statistical tests as well as the decisions you make throughout your process."
   ]
  },
  {
   "cell_type": "code",
   "execution_count": null,
   "id": "89be83f0-acef-4103-b2d1-08c57840f58e",
   "metadata": {},
   "outputs": [],
   "source": []
  }
 ],
 "metadata": {
  "kernelspec": {
   "display_name": "Python 3 (ipykernel)",
   "language": "python",
   "name": "python3"
  },
  "language_info": {
   "codemirror_mode": {
    "name": "ipython",
    "version": 3
   },
   "file_extension": ".py",
   "mimetype": "text/x-python",
   "name": "python",
   "nbconvert_exporter": "python",
   "pygments_lexer": "ipython3",
   "version": "3.9.7"
  }
 },
 "nbformat": 4,
 "nbformat_minor": 5
}
