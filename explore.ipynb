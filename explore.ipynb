{
 "cells": [
  {
   "cell_type": "markdown",
   "id": "b1ad70a4-9878-418d-b2fa-5d41734712ef",
   "metadata": {},
   "source": [
    "# Explore Exercises"
   ]
  },
  {
   "cell_type": "code",
   "execution_count": 1,
   "id": "b4e227ca-de93-4d5a-89c2-7b636fa8e415",
   "metadata": {},
   "outputs": [],
   "source": [
    "import warnings\n",
    "warnings.filterwarnings(\"ignore\")\n",
    "\n",
    "\n",
    "# STANDARD LIBRARIES\n",
    "import pandas as pd\n",
    "import numpy as np\n",
    "\n",
    "# THIRD PARTY LIBRARIES\n",
    "import matplotlib.pyplot as plt\n",
    "import seaborn as sns\n",
    "\n",
    "from sklearn.preprocessing import MinMaxScaler\n",
    "from sklearn.model_selection import train_test_split\n",
    "from scipy.stats import pearsonr, spearmanr\n",
    "\n",
    "# LOCAL LIBRARIES\n",
    "import env\n",
    "import acquire\n",
    "import wrangle\n",
    "import classification_acquire\n",
    "import classification_prepare"
   ]
  },
  {
   "cell_type": "markdown",
   "id": "33afbcde-f134-4017-aafc-15949a05a284",
   "metadata": {},
   "source": [
    "# Exercises I - Required\n",
    "- Our Telco scenario continues:"
   ]
  },
  {
   "cell_type": "markdown",
   "id": "4003e5e0-349b-457e-aea3-70af98b58e4a",
   "metadata": {},
   "source": [
    "As a customer analyst for Telco, you want to know who has spent the most money with the company over their lifetime. You have \n",
    "- monthly charges and \n",
    "- tenure, \n",
    "\n",
    "so you think you will be able to use those two attributes as features to estimate total charges. You need to do this within an average of $5.00 per customer.\n",
    "\n",
    "In these exercises, you will run through the stages of exploration as you continue to work toward the above goal.\n",
    "\n",
    "Do your work in a notebook named explore.ipynb. In addition, you should create a file named explore.py that contains the following functions for exploring your variables (features & target)."
   ]
  },
  {
   "cell_type": "code",
   "execution_count": 2,
   "id": "7560cba3-6a73-4428-9ebf-fd91c21473fd",
   "metadata": {},
   "outputs": [
    {
     "name": "stdout",
     "output_type": "stream",
     "text": [
      "Reading from csv file...\n"
     ]
    }
   ],
   "source": [
    "df = acquire.get_telco_data()"
   ]
  },
  {
   "cell_type": "code",
   "execution_count": 3,
   "id": "44a8827c-cb6d-4166-946d-17c702f7a21f",
   "metadata": {},
   "outputs": [
    {
     "name": "stdout",
     "output_type": "stream",
     "text": [
      "Reading from csv file...\n"
     ]
    }
   ],
   "source": [
    "df = wrangle.wrangle_telco()"
   ]
  },
  {
   "cell_type": "code",
   "execution_count": 4,
   "id": "714a6d6c-9359-40d7-aad0-1d444d98262a",
   "metadata": {},
   "outputs": [
    {
     "data": {
      "text/html": [
       "<div>\n",
       "<style scoped>\n",
       "    .dataframe tbody tr th:only-of-type {\n",
       "        vertical-align: middle;\n",
       "    }\n",
       "\n",
       "    .dataframe tbody tr th {\n",
       "        vertical-align: top;\n",
       "    }\n",
       "\n",
       "    .dataframe thead th {\n",
       "        text-align: right;\n",
       "    }\n",
       "</style>\n",
       "<table border=\"1\" class=\"dataframe\">\n",
       "  <thead>\n",
       "    <tr style=\"text-align: right;\">\n",
       "      <th></th>\n",
       "      <th>customer_id</th>\n",
       "      <th>monthly_charges</th>\n",
       "      <th>monthly_tenure</th>\n",
       "    </tr>\n",
       "  </thead>\n",
       "  <tbody>\n",
       "    <tr>\n",
       "      <th>0</th>\n",
       "      <td>0002-ORFBO</td>\n",
       "      <td>65.6</td>\n",
       "      <td>9</td>\n",
       "    </tr>\n",
       "    <tr>\n",
       "      <th>1</th>\n",
       "      <td>0003-MKNFE</td>\n",
       "      <td>59.9</td>\n",
       "      <td>9</td>\n",
       "    </tr>\n",
       "    <tr>\n",
       "      <th>2</th>\n",
       "      <td>0004-TLHLJ</td>\n",
       "      <td>73.9</td>\n",
       "      <td>4</td>\n",
       "    </tr>\n",
       "    <tr>\n",
       "      <th>3</th>\n",
       "      <td>0011-IGKFF</td>\n",
       "      <td>98.0</td>\n",
       "      <td>13</td>\n",
       "    </tr>\n",
       "    <tr>\n",
       "      <th>4</th>\n",
       "      <td>0013-EXCHZ</td>\n",
       "      <td>83.9</td>\n",
       "      <td>3</td>\n",
       "    </tr>\n",
       "  </tbody>\n",
       "</table>\n",
       "</div>"
      ],
      "text/plain": [
       "  customer_id  monthly_charges  monthly_tenure\n",
       "0  0002-ORFBO             65.6               9\n",
       "1  0003-MKNFE             59.9               9\n",
       "2  0004-TLHLJ             73.9               4\n",
       "3  0011-IGKFF             98.0              13\n",
       "4  0013-EXCHZ             83.9               3"
      ]
     },
     "execution_count": 4,
     "metadata": {},
     "output_type": "execute_result"
    }
   ],
   "source": [
    "df.head()"
   ]
  },
  {
   "cell_type": "code",
   "execution_count": 5,
   "id": "43139784-6b07-4659-840f-191abdff74b0",
   "metadata": {},
   "outputs": [
    {
     "name": "stdout",
     "output_type": "stream",
     "text": [
      "<class 'pandas.core.frame.DataFrame'>\n",
      "RangeIndex: 7043 entries, 0 to 7042\n",
      "Data columns (total 3 columns):\n",
      " #   Column           Non-Null Count  Dtype  \n",
      "---  ------           --------------  -----  \n",
      " 0   customer_id      7043 non-null   object \n",
      " 1   monthly_charges  7043 non-null   float64\n",
      " 2   monthly_tenure   7043 non-null   int64  \n",
      "dtypes: float64(1), int64(1), object(1)\n",
      "memory usage: 165.2+ KB\n"
     ]
    }
   ],
   "source": [
    "df.info()"
   ]
  },
  {
   "cell_type": "code",
   "execution_count": 6,
   "id": "9f94ebb7-cb66-4bc9-b92b-7b5a76fdba0e",
   "metadata": {},
   "outputs": [
    {
     "data": {
      "text/html": [
       "<div>\n",
       "<style scoped>\n",
       "    .dataframe tbody tr th:only-of-type {\n",
       "        vertical-align: middle;\n",
       "    }\n",
       "\n",
       "    .dataframe tbody tr th {\n",
       "        vertical-align: top;\n",
       "    }\n",
       "\n",
       "    .dataframe thead th {\n",
       "        text-align: right;\n",
       "    }\n",
       "</style>\n",
       "<table border=\"1\" class=\"dataframe\">\n",
       "  <thead>\n",
       "    <tr style=\"text-align: right;\">\n",
       "      <th></th>\n",
       "      <th>monthly_charges</th>\n",
       "      <th>monthly_tenure</th>\n",
       "    </tr>\n",
       "  </thead>\n",
       "  <tbody>\n",
       "    <tr>\n",
       "      <th>count</th>\n",
       "      <td>7043.000000</td>\n",
       "      <td>7043.000000</td>\n",
       "    </tr>\n",
       "    <tr>\n",
       "      <th>mean</th>\n",
       "      <td>64.761692</td>\n",
       "      <td>32.371149</td>\n",
       "    </tr>\n",
       "    <tr>\n",
       "      <th>std</th>\n",
       "      <td>30.090047</td>\n",
       "      <td>24.559481</td>\n",
       "    </tr>\n",
       "    <tr>\n",
       "      <th>min</th>\n",
       "      <td>18.250000</td>\n",
       "      <td>0.000000</td>\n",
       "    </tr>\n",
       "    <tr>\n",
       "      <th>25%</th>\n",
       "      <td>35.500000</td>\n",
       "      <td>9.000000</td>\n",
       "    </tr>\n",
       "    <tr>\n",
       "      <th>50%</th>\n",
       "      <td>70.350000</td>\n",
       "      <td>29.000000</td>\n",
       "    </tr>\n",
       "    <tr>\n",
       "      <th>75%</th>\n",
       "      <td>89.850000</td>\n",
       "      <td>55.000000</td>\n",
       "    </tr>\n",
       "    <tr>\n",
       "      <th>max</th>\n",
       "      <td>118.750000</td>\n",
       "      <td>72.000000</td>\n",
       "    </tr>\n",
       "  </tbody>\n",
       "</table>\n",
       "</div>"
      ],
      "text/plain": [
       "       monthly_charges  monthly_tenure\n",
       "count      7043.000000     7043.000000\n",
       "mean         64.761692       32.371149\n",
       "std          30.090047       24.559481\n",
       "min          18.250000        0.000000\n",
       "25%          35.500000        9.000000\n",
       "50%          70.350000       29.000000\n",
       "75%          89.850000       55.000000\n",
       "max         118.750000       72.000000"
      ]
     },
     "execution_count": 6,
     "metadata": {},
     "output_type": "execute_result"
    }
   ],
   "source": [
    "df.describe()"
   ]
  },
  {
   "cell_type": "markdown",
   "id": "67f155ed-0c20-479c-a7cd-96c430477e2e",
   "metadata": {
    "tags": []
   },
   "source": [
    "## Exploration Process"
   ]
  },
  {
   "cell_type": "markdown",
   "id": "5b55f67a-bee1-4476-8778-e74405e5730f",
   "metadata": {},
   "source": [
    "### Univariate Stat Visualizations"
   ]
  },
  {
   "cell_type": "code",
   "execution_count": 7,
   "id": "dc0e4842-edfe-434a-b5a4-d77837bf689f",
   "metadata": {},
   "outputs": [
    {
     "data": {
      "image/png": "[encoded data removed]",
      "text/plain": [
       "<Figure size 1152x720 with 2 Axes>"
      ]
     },
     "metadata": {
      "needs_background": "light"
     },
     "output_type": "display_data"
    }
   ],
   "source": [
    "df.hist(figsize = (16, 10), grid = False, bins=10)\n",
    "plt.ylabel('# of Customers')\n",
    "plt.show()"
   ]
  },
  {
   "cell_type": "code",
   "execution_count": 8,
   "id": "173e8c3d-69f9-4d60-b4ce-97e5a1889383",
   "metadata": {},
   "outputs": [
    {
     "data": {
      "image/png": "[encoded data removed]",
      "text/plain": [
       "<Figure size 432x288 with 1 Axes>"
      ]
     },
     "metadata": {
      "needs_background": "light"
     },
     "output_type": "display_data"
    }
   ],
   "source": [
    "sns.boxplot(df.monthly_charges)\n",
    "plt.show()"
   ]
  },
  {
   "cell_type": "code",
   "execution_count": 9,
   "id": "5f453669-9599-410a-9569-adef95fa0935",
   "metadata": {},
   "outputs": [
    {
     "data": {
      "image/png": "[encoded data removed]",
      "text/plain": [
       "<Figure size 360x360 with 1 Axes>"
      ]
     },
     "metadata": {
      "needs_background": "light"
     },
     "output_type": "display_data"
    }
   ],
   "source": [
    "figsize = (20, 15)\n",
    "sns.displot(df.monthly_charges)\n",
    "plt.ylabel('# of Customers')\n",
    "plt.xlabel('monthly charges')\n",
    "plt.show()"
   ]
  },
  {
   "cell_type": "code",
   "execution_count": 10,
   "id": "a1f70504-0bc8-4499-a4b7-859dbea2142f",
   "metadata": {},
   "outputs": [
    {
     "data": {
      "image/png": "[encoded data removed]",
      "text/plain": [
       "<Figure size 432x288 with 1 Axes>"
      ]
     },
     "metadata": {
      "needs_background": "light"
     },
     "output_type": "display_data"
    }
   ],
   "source": [
    "sns.boxplot(df.monthly_tenure)\n",
    "plt.show()"
   ]
  },
  {
   "cell_type": "code",
   "execution_count": 11,
   "id": "c612c48e-c090-4f9d-b486-23f580dfad90",
   "metadata": {},
   "outputs": [
    {
     "data": {
      "image/png": "[encoded data removed]",
      "text/plain": [
       "<Figure size 360x360 with 1 Axes>"
      ]
     },
     "metadata": {
      "needs_background": "light"
     },
     "output_type": "display_data"
    }
   ],
   "source": [
    "figsize = (20, 15)\n",
    "sns.displot(df.monthly_tenure)\n",
    "plt.ylabel('# of Customers')\n",
    "plt.xlabel('monthly tenure')\n",
    "plt.show()"
   ]
  },
  {
   "cell_type": "markdown",
   "id": "93edaef3-93e6-45df-9d65-3c9ef271b8f2",
   "metadata": {
    "tags": []
   },
   "source": [
    "# Observations\n",
    "- Monthly Charges: Nearly 1600 customers have monthly charges < 30\n",
    "- Monthly Charges: A bulk of the monthly charges are between 70-120\n",
    "- Tenure: Spike at 5 months, which drops off with a loss of nearly 800 customers after that point.\n",
    "- Tenure: Customers with over 65 months of tenure is second most common cateogry. \n",
    "\n",
    "** Removed Total Charges Per Exercise Instructions\n",
    "- Total Charges: Nearly 4000 customers had total charges below 2000\n",
    "- Total Charges: Number of customers declines as total_charges increase, perhaps a factor of churn"
   ]
  },
  {
   "cell_type": "markdown",
   "id": "ebdf9229-1483-4891-b98a-f173a1df8f67",
   "metadata": {
    "tags": []
   },
   "source": [
    "#### Hypothesize: Form and document your initial hypotheses about how the predictors (independent variables, features, or attributes) interact with the target (y-value or dependent variable)."
   ]
  },
  {
   "cell_type": "markdown",
   "id": "63cf6590-ac67-4fa1-ac0a-7045f06d81ba",
   "metadata": {
    "tags": []
   },
   "source": [
    "Initial Questions to Consider\n",
    "- Does the monthly charge amount impact tenure?\n",
    "- Do people with higher monthly charges have less tenure?\n",
    "- Do customers with lower monthly charges have greater tenure?\n",
    "- What are the monthly charges for customers who stay with the company?\n",
    "- What are the monthly charges fo customers who churn?"
   ]
  },
  {
   "cell_type": "markdown",
   "id": "32266ba3-ad9a-438e-9e44-c5b2b6c56d9b",
   "metadata": {},
   "source": [
    "1. Make sure to perform a train, validate, test split before and use only your train dataset to explore the relationships between independent variables with other independent variables or independent variables with your target variable."
   ]
  },
  {
   "cell_type": "code",
   "execution_count": 12,
   "id": "b8f07a0b-1f3b-458d-80fd-668232c22b1f",
   "metadata": {},
   "outputs": [],
   "source": [
    "def train_validate_test_split(df, seed=123):\n",
    "    train_validate, test = train_test_split(df, test_size=0.2, \n",
    "                                            random_state=seed)\n",
    "    train, validate = train_test_split(train_validate, test_size=0.3, \n",
    "                                       random_state=seed)\n",
    "    \n",
    "    print(f'train --> {train.shape}')\n",
    "    print(f'validate --> {validate.shape}')\n",
    "    print(f'test --> {test.shape}')\n",
    "    \n",
    "    return train, validate, test"
   ]
  },
  {
   "cell_type": "code",
   "execution_count": 13,
   "id": "5ac3a66c-d4c4-4a18-a1d1-a71781436914",
   "metadata": {},
   "outputs": [
    {
     "name": "stdout",
     "output_type": "stream",
     "text": [
      "train --> (3943, 3)\n",
      "validate --> (1691, 3)\n",
      "test --> (1409, 3)\n"
     ]
    }
   ],
   "source": [
    "train, validate, test = train_validate_test_split(df, seed=123)"
   ]
  },
  {
   "cell_type": "markdown",
   "id": "f4115421-982e-4979-98b6-fe0a047fbf47",
   "metadata": {},
   "source": [
    "2. Write a function named plot_variable_pairs that accepts a dataframe as input and plots all of the pairwise relationships along with the regression line for each pair."
   ]
  },
  {
   "cell_type": "code",
   "execution_count": 14,
   "id": "76261942-7f74-4aca-bf6d-604d5e209782",
   "metadata": {},
   "outputs": [],
   "source": [
    "# create a function that takes in a dataframe\n",
    "def plot_variable_pairs(df):\n",
    "    # plot the columns in a pairplot\n",
    "    sns.pairplot(df, kind = 'reg', corner = True, plot_kws={'line_kws':{'color':'red'}})\n",
    "    plt.show()"
   ]
  },
  {
   "cell_type": "code",
   "execution_count": 15,
   "id": "a057a9dc-7d55-44d7-91f0-011f1f20d842",
   "metadata": {},
   "outputs": [
    {
     "data": {
      "image/png": "[encoded data removed]",
      "text/plain": [
       "<Figure size 360x360 with 5 Axes>"
      ]
     },
     "metadata": {
      "needs_background": "light"
     },
     "output_type": "display_data"
    }
   ],
   "source": [
    "plot_variable_pairs(train)"
   ]
  },
  {
   "cell_type": "markdown",
   "id": "938ef6c5-9b8c-483d-8d01-5af8233a823e",
   "metadata": {},
   "source": [
    "3. Write a function named months_to_years that accepts your telco churn dataframe and returns a dataframe with a new feature tenure_years, in complete years as a customer."
   ]
  },
  {
   "cell_type": "code",
   "execution_count": 16,
   "id": "22a0aed2-a2b0-4f24-97c8-884977051b07",
   "metadata": {},
   "outputs": [],
   "source": [
    "# create a function that accepts\n",
    "def months_to_years(df):\n",
    "    # create a new column that takes tenure months and converts them to complete years\n",
    "    df['tenure_years']= df.monthly_tenure // 12\n",
    "    # return the dataframe\n",
    "    return df"
   ]
  },
  {
   "cell_type": "code",
   "execution_count": 17,
   "id": "b8c36171-273c-48ff-b50f-cb297ba773f0",
   "metadata": {},
   "outputs": [
    {
     "data": {
      "text/html": [
       "<div>\n",
       "<style scoped>\n",
       "    .dataframe tbody tr th:only-of-type {\n",
       "        vertical-align: middle;\n",
       "    }\n",
       "\n",
       "    .dataframe tbody tr th {\n",
       "        vertical-align: top;\n",
       "    }\n",
       "\n",
       "    .dataframe thead th {\n",
       "        text-align: right;\n",
       "    }\n",
       "</style>\n",
       "<table border=\"1\" class=\"dataframe\">\n",
       "  <thead>\n",
       "    <tr style=\"text-align: right;\">\n",
       "      <th></th>\n",
       "      <th>customer_id</th>\n",
       "      <th>monthly_charges</th>\n",
       "      <th>monthly_tenure</th>\n",
       "      <th>tenure_years</th>\n",
       "    </tr>\n",
       "  </thead>\n",
       "  <tbody>\n",
       "    <tr>\n",
       "      <th>0</th>\n",
       "      <td>0002-ORFBO</td>\n",
       "      <td>65.60</td>\n",
       "      <td>9</td>\n",
       "      <td>0</td>\n",
       "    </tr>\n",
       "    <tr>\n",
       "      <th>1</th>\n",
       "      <td>0003-MKNFE</td>\n",
       "      <td>59.90</td>\n",
       "      <td>9</td>\n",
       "      <td>0</td>\n",
       "    </tr>\n",
       "    <tr>\n",
       "      <th>2</th>\n",
       "      <td>0004-TLHLJ</td>\n",
       "      <td>73.90</td>\n",
       "      <td>4</td>\n",
       "      <td>0</td>\n",
       "    </tr>\n",
       "    <tr>\n",
       "      <th>3</th>\n",
       "      <td>0011-IGKFF</td>\n",
       "      <td>98.00</td>\n",
       "      <td>13</td>\n",
       "      <td>1</td>\n",
       "    </tr>\n",
       "    <tr>\n",
       "      <th>4</th>\n",
       "      <td>0013-EXCHZ</td>\n",
       "      <td>83.90</td>\n",
       "      <td>3</td>\n",
       "      <td>0</td>\n",
       "    </tr>\n",
       "    <tr>\n",
       "      <th>...</th>\n",
       "      <td>...</td>\n",
       "      <td>...</td>\n",
       "      <td>...</td>\n",
       "      <td>...</td>\n",
       "    </tr>\n",
       "    <tr>\n",
       "      <th>7038</th>\n",
       "      <td>9987-LUTYD</td>\n",
       "      <td>55.15</td>\n",
       "      <td>13</td>\n",
       "      <td>1</td>\n",
       "    </tr>\n",
       "    <tr>\n",
       "      <th>7039</th>\n",
       "      <td>9992-RRAMN</td>\n",
       "      <td>85.10</td>\n",
       "      <td>22</td>\n",
       "      <td>1</td>\n",
       "    </tr>\n",
       "    <tr>\n",
       "      <th>7040</th>\n",
       "      <td>9992-UJOEL</td>\n",
       "      <td>50.30</td>\n",
       "      <td>2</td>\n",
       "      <td>0</td>\n",
       "    </tr>\n",
       "    <tr>\n",
       "      <th>7041</th>\n",
       "      <td>9993-LHIEB</td>\n",
       "      <td>67.85</td>\n",
       "      <td>67</td>\n",
       "      <td>5</td>\n",
       "    </tr>\n",
       "    <tr>\n",
       "      <th>7042</th>\n",
       "      <td>9995-HOTOH</td>\n",
       "      <td>59.00</td>\n",
       "      <td>63</td>\n",
       "      <td>5</td>\n",
       "    </tr>\n",
       "  </tbody>\n",
       "</table>\n",
       "<p>7043 rows × 4 columns</p>\n",
       "</div>"
      ],
      "text/plain": [
       "     customer_id  monthly_charges  monthly_tenure  tenure_years\n",
       "0     0002-ORFBO            65.60               9             0\n",
       "1     0003-MKNFE            59.90               9             0\n",
       "2     0004-TLHLJ            73.90               4             0\n",
       "3     0011-IGKFF            98.00              13             1\n",
       "4     0013-EXCHZ            83.90               3             0\n",
       "...          ...              ...             ...           ...\n",
       "7038  9987-LUTYD            55.15              13             1\n",
       "7039  9992-RRAMN            85.10              22             1\n",
       "7040  9992-UJOEL            50.30               2             0\n",
       "7041  9993-LHIEB            67.85              67             5\n",
       "7042  9995-HOTOH            59.00              63             5\n",
       "\n",
       "[7043 rows x 4 columns]"
      ]
     },
     "execution_count": 17,
     "metadata": {},
     "output_type": "execute_result"
    }
   ],
   "source": [
    "months_to_years(df)"
   ]
  },
  {
   "cell_type": "markdown",
   "id": "15b2f21d-5daf-4965-b265-38176c3d7c13",
   "metadata": {},
   "source": [
    "4. Write a function named plot_categorical_and_continuous_vars that accepts your dataframe and the name of the columns that hold the continuous and categorical features and outputs 3 different plots for visualizing a categorical variable and a continuous variable."
   ]
  },
  {
   "cell_type": "code",
   "execution_count": 24,
   "id": "b1eca187-b52d-4230-bfd3-c69632e06123",
   "metadata": {},
   "outputs": [
    {
     "data": {
      "text/html": [
       "<div>\n",
       "<style scoped>\n",
       "    .dataframe tbody tr th:only-of-type {\n",
       "        vertical-align: middle;\n",
       "    }\n",
       "\n",
       "    .dataframe tbody tr th {\n",
       "        vertical-align: top;\n",
       "    }\n",
       "\n",
       "    .dataframe thead th {\n",
       "        text-align: right;\n",
       "    }\n",
       "</style>\n",
       "<table border=\"1\" class=\"dataframe\">\n",
       "  <thead>\n",
       "    <tr style=\"text-align: right;\">\n",
       "      <th></th>\n",
       "      <th>customer_id</th>\n",
       "      <th>monthly_charges</th>\n",
       "      <th>monthly_tenure</th>\n",
       "      <th>tenure_years</th>\n",
       "    </tr>\n",
       "  </thead>\n",
       "  <tbody>\n",
       "    <tr>\n",
       "      <th>941</th>\n",
       "      <td>1360-RCYRT</td>\n",
       "      <td>30.35</td>\n",
       "      <td>23</td>\n",
       "      <td>1</td>\n",
       "    </tr>\n",
       "    <tr>\n",
       "      <th>1404</th>\n",
       "      <td>2075-PUEPR</td>\n",
       "      <td>19.35</td>\n",
       "      <td>55</td>\n",
       "      <td>4</td>\n",
       "    </tr>\n",
       "    <tr>\n",
       "      <th>5515</th>\n",
       "      <td>7766-CLTIC</td>\n",
       "      <td>60.95</td>\n",
       "      <td>10</td>\n",
       "      <td>0</td>\n",
       "    </tr>\n",
       "    <tr>\n",
       "      <th>3684</th>\n",
       "      <td>5196-SGOAK</td>\n",
       "      <td>75.70</td>\n",
       "      <td>1</td>\n",
       "      <td>0</td>\n",
       "    </tr>\n",
       "    <tr>\n",
       "      <th>7017</th>\n",
       "      <td>9957-YODKZ</td>\n",
       "      <td>80.80</td>\n",
       "      <td>6</td>\n",
       "      <td>0</td>\n",
       "    </tr>\n",
       "    <tr>\n",
       "      <th>...</th>\n",
       "      <td>...</td>\n",
       "      <td>...</td>\n",
       "      <td>...</td>\n",
       "      <td>...</td>\n",
       "    </tr>\n",
       "    <tr>\n",
       "      <th>2464</th>\n",
       "      <td>3524-WQDSG</td>\n",
       "      <td>99.30</td>\n",
       "      <td>43</td>\n",
       "      <td>3</td>\n",
       "    </tr>\n",
       "    <tr>\n",
       "      <th>5585</th>\n",
       "      <td>7861-UVUFT</td>\n",
       "      <td>84.30</td>\n",
       "      <td>15</td>\n",
       "      <td>1</td>\n",
       "    </tr>\n",
       "    <tr>\n",
       "      <th>804</th>\n",
       "      <td>1172-VIYBP</td>\n",
       "      <td>69.70</td>\n",
       "      <td>53</td>\n",
       "      <td>4</td>\n",
       "    </tr>\n",
       "    <tr>\n",
       "      <th>3190</th>\n",
       "      <td>4570-QHXHL</td>\n",
       "      <td>43.75</td>\n",
       "      <td>9</td>\n",
       "      <td>0</td>\n",
       "    </tr>\n",
       "    <tr>\n",
       "      <th>3266</th>\n",
       "      <td>4670-TABXH</td>\n",
       "      <td>109.75</td>\n",
       "      <td>72</td>\n",
       "      <td>6</td>\n",
       "    </tr>\n",
       "  </tbody>\n",
       "</table>\n",
       "<p>1409 rows × 4 columns</p>\n",
       "</div>"
      ],
      "text/plain": [
       "     customer_id  monthly_charges  monthly_tenure  tenure_years\n",
       "941   1360-RCYRT            30.35              23             1\n",
       "1404  2075-PUEPR            19.35              55             4\n",
       "5515  7766-CLTIC            60.95              10             0\n",
       "3684  5196-SGOAK            75.70               1             0\n",
       "7017  9957-YODKZ            80.80               6             0\n",
       "...          ...              ...             ...           ...\n",
       "2464  3524-WQDSG            99.30              43             3\n",
       "5585  7861-UVUFT            84.30              15             1\n",
       "804   1172-VIYBP            69.70              53             4\n",
       "3190  4570-QHXHL            43.75               9             0\n",
       "3266  4670-TABXH           109.75              72             6\n",
       "\n",
       "[1409 rows x 4 columns]"
      ]
     },
     "execution_count": 24,
     "metadata": {},
     "output_type": "execute_result"
    }
   ],
   "source": [
    "months_to_years(train)\n",
    "months_to_years(validate)\n",
    "months_to_years(test)"
   ]
  },
  {
   "cell_type": "code",
   "execution_count": 25,
   "id": "32ddd2e6-a00e-42b3-a47f-e72bd9c146a9",
   "metadata": {},
   "outputs": [
    {
     "name": "stdout",
     "output_type": "stream",
     "text": [
      "<class 'pandas.core.frame.DataFrame'>\n",
      "RangeIndex: 7043 entries, 0 to 7042\n",
      "Data columns (total 4 columns):\n",
      " #   Column           Non-Null Count  Dtype  \n",
      "---  ------           --------------  -----  \n",
      " 0   customer_id      7043 non-null   object \n",
      " 1   monthly_charges  7043 non-null   float64\n",
      " 2   monthly_tenure   7043 non-null   int64  \n",
      " 3   tenure_years     7043 non-null   int64  \n",
      "dtypes: float64(1), int64(2), object(1)\n",
      "memory usage: 220.2+ KB\n"
     ]
    }
   ],
   "source": [
    "df.info()"
   ]
  },
  {
   "cell_type": "code",
   "execution_count": 26,
   "id": "601d87ec-09f8-466b-ac86-6593fba0e3d5",
   "metadata": {},
   "outputs": [],
   "source": [
    "def visual(df, cont_col, cat_col):\n",
    "\n",
    "    return sns.swarmplot(x=cat_col, y=cont_col, data=df)\n",
    "    "
   ]
  },
  {
   "cell_type": "code",
   "execution_count": 28,
   "id": "9134b063-540b-4375-9e7b-bb242111786c",
   "metadata": {},
   "outputs": [
    {
     "data": {
      "text/plain": [
       "<AxesSubplot:xlabel='tenure_years', ylabel='monthly_charges'>"
      ]
     },
     "execution_count": 28,
     "metadata": {},
     "output_type": "execute_result"
    },
    {
     "data": {
      "image/png": "[encoded data removed]",
      "text/plain": [
       "<Figure size 432x288 with 1 Axes>"
      ]
     },
     "metadata": {
      "needs_background": "light"
     },
     "output_type": "display_data"
    }
   ],
   "source": [
    "visual(train, 'monthly_charges', 'tenure_years')"
   ]
  },
  {
   "cell_type": "code",
   "execution_count": null,
   "id": "16d756e3-9961-4613-9bd6-7834932e0947",
   "metadata": {},
   "outputs": [],
   "source": [
    "sns.boxplot(x='discrete_var', y='continuous_var', data=df)"
   ]
  },
  {
   "cell_type": "code",
   "execution_count": null,
   "id": "f0deff4d-d5ba-4acc-b437-5606099dd0f4",
   "metadata": {},
   "outputs": [],
   "source": [
    "def plot_categorical_and_continuous_vars(df):\n",
    "    \n",
    "    \n",
    "    sns.swarmplot(x='discrete_var', y='continuous_var', data=df)\n",
    "    sns.stripplot(x='discrete_var', y='continuous_var', data=df)\n",
    "    sns.boxplot(x='discrete_var', y='continuous_var', data=df)\n",
    "    sns.violinplot(x='discrete_var', y='continuous_var', data=df)\n",
    "    sns.barplot(x='discrete_var', y='continuous_var', data=df)\n",
    "    \n",
    "    return plt.show()"
   ]
  },
  {
   "cell_type": "code",
   "execution_count": null,
   "id": "c4d41f72-a844-478f-90df-48a5a8274d75",
   "metadata": {},
   "outputs": [],
   "source": [
    "plot_categorical_and_continuous_vars(train)"
   ]
  },
  {
   "cell_type": "code",
   "execution_count": null,
   "id": "20f41029-c873-4508-b28c-d09e4905cecb",
   "metadata": {},
   "outputs": [],
   "source": [
    "# Scale Data\n",
    "\n",
    "def scale_telco(train, validate, test, scaler_type = MinMaxScaler()):\n",
    "    features_to_scale = ['monthly_charges', 'tenure']\n",
    "    other_features = ['customer_id']\n",
    "    target = 'total_charges'\n",
    "\n",
    "    \n",
    "    # establish empy dataframes for storing scaled datasets\n",
    "    train_scaled = pd.DataFrame(index = train.index)\n",
    "    validate_scaled = pd.DataFrame(index = validate.index)\n",
    "    test_scaled = pd.DataFrame(index = test.index)\n",
    "    \n",
    "    # create and fit the scaler\n",
    "    scaler = scaler_type.fit(train[features_to_scale])\n",
    "    \n",
    "    \n",
    "    # adding scaled features to the scaled dataframes\n",
    "    train_scaled[features_to_scale] = scaler.transform(train[features_to_scale])\n",
    "    validate_scaled[features_to_scale] = scaler.transform(validate[features_to_scale])\n",
    "    test_scaled[features_to_scale] = scaler.transform(test[features_to_scale])\n",
    "    \n",
    "    \n",
    "    # adding features that are not scaled back to the dataframe. \n",
    "    \n",
    "    train_scaled[other_features] = train[other_features]\n",
    "    validate_scaled[other_features] = validate[other_features]\n",
    "    test_scaled[other_features] = test[other_features]\n",
    "    \n",
    "    \n",
    "    # adding target variable to the dataframe\n",
    "    \n",
    "    train_scaled[target] = (train[target])\n",
    "    validate_scaled[target] = (validate[target])\n",
    "    test_scaled[target] = (test[target])\n",
    "    \n",
    "    return train_scaled, validate_scaled, test_scaled\n",
    "    "
   ]
  },
  {
   "cell_type": "code",
   "execution_count": null,
   "id": "3783d5f5-75bc-4295-9256-0f6198111cdf",
   "metadata": {},
   "outputs": [],
   "source": [
    "scale_telco(train, validate, test)"
   ]
  },
  {
   "cell_type": "code",
   "execution_count": null,
   "id": "a6ac9e8c-1b91-488f-ace2-65f9f74b09f8",
   "metadata": {},
   "outputs": [],
   "source": [
    "df.head()"
   ]
  },
  {
   "cell_type": "code",
   "execution_count": null,
   "id": "6c90b558-2c1c-4532-884a-83b8087cf3ac",
   "metadata": {},
   "outputs": [],
   "source": [
    "sns.lmplot(data = df, \n",
    "                x=col, \n",
    "                y=y, \n",
    "                hue=cat, \n",
    "                palette='Set1',\n",
    "                scatter_kws={\"alpha\":0.2, 's':10}, \n",
    "                line_kws={'lw':4})"
   ]
  },
  {
   "cell_type": "markdown",
   "id": "1d8ce9e6-b40b-4ce0-b072-9f7f8f15dbd1",
   "metadata": {},
   "source": [
    "5. Save the functions you have written to create visualizations in your explore.py file. Rewrite your notebook code so that you are using the functions imported from this file."
   ]
  },
  {
   "cell_type": "code",
   "execution_count": null,
   "id": "ee006b63-e708-4a38-a6b3-a002d5c40645",
   "metadata": {},
   "outputs": [],
   "source": []
  },
  {
   "cell_type": "markdown",
   "id": "12e5f03a-e955-40c3-856a-2ec302b97446",
   "metadata": {},
   "source": [
    "6. Explore your dataset with any other visualizations you think will be helpful."
   ]
  },
  {
   "cell_type": "code",
   "execution_count": null,
   "id": "1494f5cf-8d1e-4c01-acc9-9f260ff0faf3",
   "metadata": {},
   "outputs": [],
   "source": []
  },
  {
   "cell_type": "markdown",
   "id": "34d5d79d-2952-49cb-8253-c1e68e3a9f4b",
   "metadata": {},
   "source": [
    "7. In a seperate notebook, use the functions you have developed in this exercise with the mall_customers dataset in the Codeup database server. You will need to write a sql query to acquire your data. Make spending_score your target variable."
   ]
  },
  {
   "cell_type": "code",
   "execution_count": null,
   "id": "c8366eb6-896b-479c-b739-f10b19387872",
   "metadata": {},
   "outputs": [],
   "source": []
  },
  {
   "cell_type": "markdown",
   "id": "f422b21f-4097-44c7-8fc3-5c852cba294c",
   "metadata": {},
   "source": [
    "# Exercises II - Challenge"
   ]
  },
  {
   "cell_type": "markdown",
   "id": "991c0d3b-b4ab-4689-81b7-51f5eb2eefdd",
   "metadata": {},
   "source": [
    "## Zillow"
   ]
  },
  {
   "cell_type": "markdown",
   "id": "ccd6c62e-8a2a-4d93-994a-fc7a9264cd64",
   "metadata": {},
   "source": [
    "Our Zillow scenario continues:\n",
    "\n",
    "As a Codeup data science graduate, you want to show off your skills to the Zillow data science team in hopes of getting an interview for a position you saw pop up on LinkedIn. You thought it might look impressive to build an end-to-end project in which you use some of their Kaggle data to predict property values using some of their available features; who knows, you might even do some feature engineering to blow them away. "
   ]
  },
  {
   "cell_type": "markdown",
   "id": "6cd5d1b0-4d7b-4dee-b682-97d5e52e68c2",
   "metadata": {},
   "source": [
    "## Goal"
   ]
  },
  {
   "cell_type": "markdown",
   "id": "c8920612-acb1-4626-adb3-80fd021eac78",
   "metadata": {},
   "source": [
    "- Your goal is to predict the values of single unit properties using the observations from 2017."
   ]
  },
  {
   "cell_type": "markdown",
   "id": "d8a8d685-3b13-4ac6-8880-aa4da5f23e3e",
   "metadata": {},
   "source": [
    "In these exercises, you will run through the stages of exploration as you continue to work toward the above goal."
   ]
  },
  {
   "cell_type": "markdown",
   "id": "5824547a-244d-405a-84d6-09aad84469cb",
   "metadata": {},
   "source": [
    "Use the functions you created above to explore your Zillow train dataset in your explore.ipynb notebook."
   ]
  },
  {
   "cell_type": "code",
   "execution_count": null,
   "id": "a69840c3-cded-497e-a0c4-77d98265dfe6",
   "metadata": {},
   "outputs": [],
   "source": []
  },
  {
   "cell_type": "markdown",
   "id": "3065e098-6d80-41c4-b85a-d7c49db5031b",
   "metadata": {},
   "source": [
    "Come up with some initial hypotheses based on your goal of predicting property value."
   ]
  },
  {
   "cell_type": "code",
   "execution_count": null,
   "id": "0df127db-c965-4bdc-9cac-d0f231540260",
   "metadata": {},
   "outputs": [],
   "source": []
  },
  {
   "cell_type": "markdown",
   "id": "a3539178-061e-4b09-87de-eaff724cb925",
   "metadata": {},
   "source": [
    "Visualize all combinations of variables in some way."
   ]
  },
  {
   "cell_type": "code",
   "execution_count": null,
   "id": "35c7fcc9-b6cc-4333-ae62-63be9433b075",
   "metadata": {},
   "outputs": [],
   "source": []
  },
  {
   "cell_type": "markdown",
   "id": "139c6fca-3e24-4e24-ad08-0f0bc910ae58",
   "metadata": {},
   "source": [
    "Run the appropriate statistical tests where needed."
   ]
  },
  {
   "cell_type": "code",
   "execution_count": null,
   "id": "048ea00b-56b8-422a-84ce-d6cc421f4a3b",
   "metadata": {},
   "outputs": [],
   "source": []
  },
  {
   "cell_type": "markdown",
   "id": "59e9401d-4518-4f67-a091-5d49473a72f8",
   "metadata": {},
   "source": [
    "What independent variables are correlated with the dependent variable, home value?"
   ]
  },
  {
   "cell_type": "code",
   "execution_count": null,
   "id": "11685b13-9718-4c36-98a2-8164e9cbe2ea",
   "metadata": {},
   "outputs": [],
   "source": []
  },
  {
   "cell_type": "markdown",
   "id": "f0492a16-205d-4f9c-9b6e-debbb5ec503b",
   "metadata": {},
   "source": [
    "Which independent variables are correlated with other independent variables (bedrooms, bathrooms, year built, square feet)?"
   ]
  },
  {
   "cell_type": "code",
   "execution_count": null,
   "id": "28c51d81-0f23-475c-a619-383adb7a6b35",
   "metadata": {},
   "outputs": [],
   "source": []
  },
  {
   "cell_type": "markdown",
   "id": "f2e20c5a-2cfa-4655-b1df-e0a973502219",
   "metadata": {},
   "source": [
    "Make sure to document your takeaways from visualizations and statistical tests as well as the decisions you make throughout your process."
   ]
  },
  {
   "cell_type": "code",
   "execution_count": null,
   "id": "b37543a6-a9ec-4dae-ac6d-f77d1f1787fd",
   "metadata": {},
   "outputs": [],
   "source": []
  }
 ],
 "metadata": {
  "kernelspec": {
   "display_name": "Python 3 (ipykernel)",
   "language": "python",
   "name": "python3"
  },
  "language_info": {
   "codemirror_mode": {
    "name": "ipython",
    "version": 3
   },
   "file_extension": ".py",
   "mimetype": "text/x-python",
   "name": "python",
   "nbconvert_exporter": "python",
   "pygments_lexer": "ipython3",
   "version": "3.9.7"
  }
 },
 "nbformat": 4,
 "nbformat_minor": 5
}
